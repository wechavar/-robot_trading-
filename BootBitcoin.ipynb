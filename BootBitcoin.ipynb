{
  "cells": [
    {
      "cell_type": "markdown",
      "metadata": {
        "id": "view-in-github",
        "colab_type": "text"
      },
      "source": [
        "<a href=\"https://colab.research.google.com/github/wilferalexander/-robot_trading-/blob/main/BootBitcoin.ipynb\" target=\"_parent\"><img src=\"https://colab.research.google.com/assets/colab-badge.svg\" alt=\"Open In Colab\"/></a>"
      ]
    },
    {
      "cell_type": "markdown",
      "metadata": {
        "id": "iTzACV8H7ivI"
      },
      "source": [
        "#BootBitcoin\n"
      ]
    },
    {
      "cell_type": "markdown",
      "metadata": {
        "id": "TlwOtNp57ucP"
      },
      "source": [
        "#**1.Configuración del ambiente**\n",
        "\n",
        "global df_bitcoin, precio_actual, tendencia, media_bitcoin,  algoritmo_decision\n",
        "\n",
        "También necesitarás instalar algunas librerías de Python que son esenciales para este proyecto, como Pandas, Numpy, Matplotlib, etc.\n",
        "\n",
        "El resultado debería ser las bibliotecas y sus versiones que tenemos instaladas en nuestro Ambiente, si tienes algún error revisa tu configuración, talvez falte instalar alguna biblioteca."
      ]
    },
    {
      "cell_type": "code",
      "execution_count": 246,
      "metadata": {
        "colab": {
          "base_uri": "https://localhost:8080/"
        },
        "id": "CcA-aELv7ZHY",
        "outputId": "568238b7-3639-47de-b2d1-015724f241c5"
      },
      "outputs": [
        {
          "output_type": "stream",
          "name": "stdout",
          "text": [
            "Python 3.10.12\n",
            "Name: pandas\n",
            "Version: 1.5.3\n",
            "Name: numpy\n",
            "Version: 1.23.5\n",
            "Name: numpy\n",
            "Version: 1.23.5\n"
          ]
        }
      ],
      "source": [
        "# Validamos que las liberias que necesitamos esten disponibles y no tengamos errores en nuestro ambiente\n",
        "!python -V\n",
        "!pip show Pandas | grep 'Name\\|Version'\n",
        "!pip show Numpy | grep 'Name\\|Version'\n",
        "!pip show Numpy | grep 'Name\\|Version'"
      ]
    },
    {
      "cell_type": "code",
      "execution_count": 247,
      "metadata": {
        "id": "c5MbIo4L9Xpw"
      },
      "outputs": [],
      "source": [
        "# Definir variables globales\n",
        "global df_bitcoin, precio_actual, tendencia, media_bitcoin, algoritmo_decision\n",
        "df_bitcoin = None\n",
        "precio_actual = 0\n",
        "tendencia = \"\"\n",
        "media_bitcoin = 0.0\n",
        "algoritmo_decision = \"\""
      ]
    },
    {
      "cell_type": "markdown",
      "metadata": {
        "id": "Vg6hUZT_8Z3f"
      },
      "source": [
        "#**2.Obtención de datos**\n",
        "\n",
        "Crea una funcion importar_base_bitcoin(), dentro de ella, define nuevamente las variables globales(ver Paso1) y escribe tu código:\n",
        "\n",
        "Utiliza la biblioteca yfinance de Python para extraer el histórico de precios del Bitcoin en dólares BTC-USD, deberás extraer el histórico de los últimos 7 días en intervalos de 5 minutos, este histórico deberás guardarlo en el dataframe df_bitcoin.\n",
        "Crea una funcion extraer_tendencias(), dentro de ella, define nuevamente las variables globales(ver Paso1) y escribe tu código:\n",
        "\n",
        "Utilizando la biblioteca BeautifulSoup deberás realizar Web Scraping de la página https://coinmarketcap.com/ para extraer el precio actual del Bitcoin BTC en dólares USD y la variación de su precio en la última hora 1h % . El precio deberás convertirlo a float y guardarlo en la variable llamada precio_actual. Ahora, en la variable tendencia guarda el valor de 'baja'si la variación del precio es negativa, sino, guarda el valor de 'alta'.\n",
        "Apoyo\n",
        "Puedes encontrar más información de como instalar y usar la biblioteca yfinance en su página oficial: yfinance.\n",
        "Además de los recursos mencionados en el card ‘Para saber más’ del Trello, puedes encontrar información complementar de Web Scraping en el siguiente enlace: Web Scraping con Python: Cómo Extraer Datos de Sitios Web.\n",
        "\n"
      ]
    },
    {
      "cell_type": "markdown",
      "metadata": {
        "id": "ZAmpVl0F7hEs"
      },
      "source": [
        "Para extraer el histórico de precios del Bitcoin en dólares (BTC-USD) en intervalos de 5 minutos durante los últimos 7 días utilizando la biblioteca yfinance, puedes hacer lo siguiente:\n",
        "\n",
        "Asegúrate de que tienes yfinance instalado en tu entorno de Python. Puedes instalarlo usando pip si aún no lo tienes"
      ]
    },
    {
      "cell_type": "code",
      "execution_count": 248,
      "metadata": {
        "colab": {
          "base_uri": "https://localhost:8080/",
          "height": 256
        },
        "id": "4bO9wNWa3Y-i",
        "outputId": "0d7ffb8b-9316-4e98-c73d-fee296082d77"
      },
      "outputs": [
        {
          "output_type": "stream",
          "name": "stdout",
          "text": [
            "\r[*********************100%%**********************]  1 of 1 completed\n"
          ]
        },
        {
          "output_type": "execute_result",
          "data": {
            "text/plain": [
              "                                   Open          High           Low  \\\n",
              "Datetime                                                              \n",
              "2023-10-15 21:05:00+00:00  27209.095703  27218.683594  27199.714844   \n",
              "2023-10-15 21:10:00+00:00  27147.589844  27147.589844  27099.292969   \n",
              "2023-10-15 21:15:00+00:00  27099.515625  27142.525391  27099.515625   \n",
              "2023-10-15 21:20:00+00:00  27143.501953  27190.085938  27143.501953   \n",
              "2023-10-15 21:25:00+00:00  27192.888672  27200.179688  27186.810547   \n",
              "\n",
              "                                  Close     Adj Close    Volume  \n",
              "Datetime                                                         \n",
              "2023-10-15 21:05:00+00:00  27199.714844  27199.714844         0  \n",
              "2023-10-15 21:10:00+00:00  27099.292969  27099.292969  58826752  \n",
              "2023-10-15 21:15:00+00:00  27142.525391  27142.525391  14136832  \n",
              "2023-10-15 21:20:00+00:00  27190.085938  27190.085938  53302272  \n",
              "2023-10-15 21:25:00+00:00  27187.503906  27187.503906  30587392  "
            ],
            "text/html": [
              "\n",
              "  <div id=\"df-5e0d8549-b527-462d-95be-235c6eb91ecd\" class=\"colab-df-container\">\n",
              "    <div>\n",
              "<style scoped>\n",
              "    .dataframe tbody tr th:only-of-type {\n",
              "        vertical-align: middle;\n",
              "    }\n",
              "\n",
              "    .dataframe tbody tr th {\n",
              "        vertical-align: top;\n",
              "    }\n",
              "\n",
              "    .dataframe thead th {\n",
              "        text-align: right;\n",
              "    }\n",
              "</style>\n",
              "<table border=\"1\" class=\"dataframe\">\n",
              "  <thead>\n",
              "    <tr style=\"text-align: right;\">\n",
              "      <th></th>\n",
              "      <th>Open</th>\n",
              "      <th>High</th>\n",
              "      <th>Low</th>\n",
              "      <th>Close</th>\n",
              "      <th>Adj Close</th>\n",
              "      <th>Volume</th>\n",
              "    </tr>\n",
              "    <tr>\n",
              "      <th>Datetime</th>\n",
              "      <th></th>\n",
              "      <th></th>\n",
              "      <th></th>\n",
              "      <th></th>\n",
              "      <th></th>\n",
              "      <th></th>\n",
              "    </tr>\n",
              "  </thead>\n",
              "  <tbody>\n",
              "    <tr>\n",
              "      <th>2023-10-15 21:05:00+00:00</th>\n",
              "      <td>27209.095703</td>\n",
              "      <td>27218.683594</td>\n",
              "      <td>27199.714844</td>\n",
              "      <td>27199.714844</td>\n",
              "      <td>27199.714844</td>\n",
              "      <td>0</td>\n",
              "    </tr>\n",
              "    <tr>\n",
              "      <th>2023-10-15 21:10:00+00:00</th>\n",
              "      <td>27147.589844</td>\n",
              "      <td>27147.589844</td>\n",
              "      <td>27099.292969</td>\n",
              "      <td>27099.292969</td>\n",
              "      <td>27099.292969</td>\n",
              "      <td>58826752</td>\n",
              "    </tr>\n",
              "    <tr>\n",
              "      <th>2023-10-15 21:15:00+00:00</th>\n",
              "      <td>27099.515625</td>\n",
              "      <td>27142.525391</td>\n",
              "      <td>27099.515625</td>\n",
              "      <td>27142.525391</td>\n",
              "      <td>27142.525391</td>\n",
              "      <td>14136832</td>\n",
              "    </tr>\n",
              "    <tr>\n",
              "      <th>2023-10-15 21:20:00+00:00</th>\n",
              "      <td>27143.501953</td>\n",
              "      <td>27190.085938</td>\n",
              "      <td>27143.501953</td>\n",
              "      <td>27190.085938</td>\n",
              "      <td>27190.085938</td>\n",
              "      <td>53302272</td>\n",
              "    </tr>\n",
              "    <tr>\n",
              "      <th>2023-10-15 21:25:00+00:00</th>\n",
              "      <td>27192.888672</td>\n",
              "      <td>27200.179688</td>\n",
              "      <td>27186.810547</td>\n",
              "      <td>27187.503906</td>\n",
              "      <td>27187.503906</td>\n",
              "      <td>30587392</td>\n",
              "    </tr>\n",
              "  </tbody>\n",
              "</table>\n",
              "</div>\n",
              "    <div class=\"colab-df-buttons\">\n",
              "\n",
              "  <div class=\"colab-df-container\">\n",
              "    <button class=\"colab-df-convert\" onclick=\"convertToInteractive('df-5e0d8549-b527-462d-95be-235c6eb91ecd')\"\n",
              "            title=\"Convert this dataframe to an interactive table.\"\n",
              "            style=\"display:none;\">\n",
              "\n",
              "  <svg xmlns=\"http://www.w3.org/2000/svg\" height=\"24px\" viewBox=\"0 -960 960 960\">\n",
              "    <path d=\"M120-120v-720h720v720H120Zm60-500h600v-160H180v160Zm220 220h160v-160H400v160Zm0 220h160v-160H400v160ZM180-400h160v-160H180v160Zm440 0h160v-160H620v160ZM180-180h160v-160H180v160Zm440 0h160v-160H620v160Z\"/>\n",
              "  </svg>\n",
              "    </button>\n",
              "\n",
              "  <style>\n",
              "    .colab-df-container {\n",
              "      display:flex;\n",
              "      gap: 12px;\n",
              "    }\n",
              "\n",
              "    .colab-df-convert {\n",
              "      background-color: #E8F0FE;\n",
              "      border: none;\n",
              "      border-radius: 50%;\n",
              "      cursor: pointer;\n",
              "      display: none;\n",
              "      fill: #1967D2;\n",
              "      height: 32px;\n",
              "      padding: 0 0 0 0;\n",
              "      width: 32px;\n",
              "    }\n",
              "\n",
              "    .colab-df-convert:hover {\n",
              "      background-color: #E2EBFA;\n",
              "      box-shadow: 0px 1px 2px rgba(60, 64, 67, 0.3), 0px 1px 3px 1px rgba(60, 64, 67, 0.15);\n",
              "      fill: #174EA6;\n",
              "    }\n",
              "\n",
              "    .colab-df-buttons div {\n",
              "      margin-bottom: 4px;\n",
              "    }\n",
              "\n",
              "    [theme=dark] .colab-df-convert {\n",
              "      background-color: #3B4455;\n",
              "      fill: #D2E3FC;\n",
              "    }\n",
              "\n",
              "    [theme=dark] .colab-df-convert:hover {\n",
              "      background-color: #434B5C;\n",
              "      box-shadow: 0px 1px 3px 1px rgba(0, 0, 0, 0.15);\n",
              "      filter: drop-shadow(0px 1px 2px rgba(0, 0, 0, 0.3));\n",
              "      fill: #FFFFFF;\n",
              "    }\n",
              "  </style>\n",
              "\n",
              "    <script>\n",
              "      const buttonEl =\n",
              "        document.querySelector('#df-5e0d8549-b527-462d-95be-235c6eb91ecd button.colab-df-convert');\n",
              "      buttonEl.style.display =\n",
              "        google.colab.kernel.accessAllowed ? 'block' : 'none';\n",
              "\n",
              "      async function convertToInteractive(key) {\n",
              "        const element = document.querySelector('#df-5e0d8549-b527-462d-95be-235c6eb91ecd');\n",
              "        const dataTable =\n",
              "          await google.colab.kernel.invokeFunction('convertToInteractive',\n",
              "                                                    [key], {});\n",
              "        if (!dataTable) return;\n",
              "\n",
              "        const docLinkHtml = 'Like what you see? Visit the ' +\n",
              "          '<a target=\"_blank\" href=https://colab.research.google.com/notebooks/data_table.ipynb>data table notebook</a>'\n",
              "          + ' to learn more about interactive tables.';\n",
              "        element.innerHTML = '';\n",
              "        dataTable['output_type'] = 'display_data';\n",
              "        await google.colab.output.renderOutput(dataTable, element);\n",
              "        const docLink = document.createElement('div');\n",
              "        docLink.innerHTML = docLinkHtml;\n",
              "        element.appendChild(docLink);\n",
              "      }\n",
              "    </script>\n",
              "  </div>\n",
              "\n",
              "\n",
              "<div id=\"df-b536f5bc-d598-41f1-b028-d13879241c83\">\n",
              "  <button class=\"colab-df-quickchart\" onclick=\"quickchart('df-b536f5bc-d598-41f1-b028-d13879241c83')\"\n",
              "            title=\"Suggest charts\"\n",
              "            style=\"display:none;\">\n",
              "\n",
              "<svg xmlns=\"http://www.w3.org/2000/svg\" height=\"24px\"viewBox=\"0 0 24 24\"\n",
              "     width=\"24px\">\n",
              "    <g>\n",
              "        <path d=\"M19 3H5c-1.1 0-2 .9-2 2v14c0 1.1.9 2 2 2h14c1.1 0 2-.9 2-2V5c0-1.1-.9-2-2-2zM9 17H7v-7h2v7zm4 0h-2V7h2v10zm4 0h-2v-4h2v4z\"/>\n",
              "    </g>\n",
              "</svg>\n",
              "  </button>\n",
              "\n",
              "<style>\n",
              "  .colab-df-quickchart {\n",
              "      --bg-color: #E8F0FE;\n",
              "      --fill-color: #1967D2;\n",
              "      --hover-bg-color: #E2EBFA;\n",
              "      --hover-fill-color: #174EA6;\n",
              "      --disabled-fill-color: #AAA;\n",
              "      --disabled-bg-color: #DDD;\n",
              "  }\n",
              "\n",
              "  [theme=dark] .colab-df-quickchart {\n",
              "      --bg-color: #3B4455;\n",
              "      --fill-color: #D2E3FC;\n",
              "      --hover-bg-color: #434B5C;\n",
              "      --hover-fill-color: #FFFFFF;\n",
              "      --disabled-bg-color: #3B4455;\n",
              "      --disabled-fill-color: #666;\n",
              "  }\n",
              "\n",
              "  .colab-df-quickchart {\n",
              "    background-color: var(--bg-color);\n",
              "    border: none;\n",
              "    border-radius: 50%;\n",
              "    cursor: pointer;\n",
              "    display: none;\n",
              "    fill: var(--fill-color);\n",
              "    height: 32px;\n",
              "    padding: 0;\n",
              "    width: 32px;\n",
              "  }\n",
              "\n",
              "  .colab-df-quickchart:hover {\n",
              "    background-color: var(--hover-bg-color);\n",
              "    box-shadow: 0 1px 2px rgba(60, 64, 67, 0.3), 0 1px 3px 1px rgba(60, 64, 67, 0.15);\n",
              "    fill: var(--button-hover-fill-color);\n",
              "  }\n",
              "\n",
              "  .colab-df-quickchart-complete:disabled,\n",
              "  .colab-df-quickchart-complete:disabled:hover {\n",
              "    background-color: var(--disabled-bg-color);\n",
              "    fill: var(--disabled-fill-color);\n",
              "    box-shadow: none;\n",
              "  }\n",
              "\n",
              "  .colab-df-spinner {\n",
              "    border: 2px solid var(--fill-color);\n",
              "    border-color: transparent;\n",
              "    border-bottom-color: var(--fill-color);\n",
              "    animation:\n",
              "      spin 1s steps(1) infinite;\n",
              "  }\n",
              "\n",
              "  @keyframes spin {\n",
              "    0% {\n",
              "      border-color: transparent;\n",
              "      border-bottom-color: var(--fill-color);\n",
              "      border-left-color: var(--fill-color);\n",
              "    }\n",
              "    20% {\n",
              "      border-color: transparent;\n",
              "      border-left-color: var(--fill-color);\n",
              "      border-top-color: var(--fill-color);\n",
              "    }\n",
              "    30% {\n",
              "      border-color: transparent;\n",
              "      border-left-color: var(--fill-color);\n",
              "      border-top-color: var(--fill-color);\n",
              "      border-right-color: var(--fill-color);\n",
              "    }\n",
              "    40% {\n",
              "      border-color: transparent;\n",
              "      border-right-color: var(--fill-color);\n",
              "      border-top-color: var(--fill-color);\n",
              "    }\n",
              "    60% {\n",
              "      border-color: transparent;\n",
              "      border-right-color: var(--fill-color);\n",
              "    }\n",
              "    80% {\n",
              "      border-color: transparent;\n",
              "      border-right-color: var(--fill-color);\n",
              "      border-bottom-color: var(--fill-color);\n",
              "    }\n",
              "    90% {\n",
              "      border-color: transparent;\n",
              "      border-bottom-color: var(--fill-color);\n",
              "    }\n",
              "  }\n",
              "</style>\n",
              "\n",
              "  <script>\n",
              "    async function quickchart(key) {\n",
              "      const quickchartButtonEl =\n",
              "        document.querySelector('#' + key + ' button');\n",
              "      quickchartButtonEl.disabled = true;  // To prevent multiple clicks.\n",
              "      quickchartButtonEl.classList.add('colab-df-spinner');\n",
              "      try {\n",
              "        const charts = await google.colab.kernel.invokeFunction(\n",
              "            'suggestCharts', [key], {});\n",
              "      } catch (error) {\n",
              "        console.error('Error during call to suggestCharts:', error);\n",
              "      }\n",
              "      quickchartButtonEl.classList.remove('colab-df-spinner');\n",
              "      quickchartButtonEl.classList.add('colab-df-quickchart-complete');\n",
              "    }\n",
              "    (() => {\n",
              "      let quickchartButtonEl =\n",
              "        document.querySelector('#df-b536f5bc-d598-41f1-b028-d13879241c83 button');\n",
              "      quickchartButtonEl.style.display =\n",
              "        google.colab.kernel.accessAllowed ? 'block' : 'none';\n",
              "    })();\n",
              "  </script>\n",
              "</div>\n",
              "    </div>\n",
              "  </div>\n"
            ]
          },
          "metadata": {},
          "execution_count": 248
        }
      ],
      "source": [
        "def importar_base_bitcoin():\n",
        "  global df_bitcoin, precio_actual, tendencia, media_bitcoin, algoritmo_decision\n",
        "  import pandas as pd\n",
        "  import yfinance as fy\n",
        "  import datetime\n",
        "\n",
        "  bitcoin = \"BTC-USD\"\n",
        "\n",
        "  #Se procede a calcular para obtener los datos de los ultimos 30 dias hasta la fecha\n",
        "  fecha_final = datetime.datetime.now()\n",
        "  fecha_inicial = fecha_final - datetime.timedelta(days=30)\n",
        "\n",
        "  #Se extraen los datos desde los ultimos 30 dias con un intervalo de 5 minutos\n",
        "  datos = fy.download(bitcoin, start=fecha_inicial, end=fecha_final, interval=\"5m\")\n",
        "\n",
        "  #Procedemos a convertirlo a un dataframe usando la variable global\n",
        "  df_bitcoin = pd.DataFrame(datos)\n",
        "\n",
        "importar_base_bitcoin()\n",
        "df_bitcoin.head()"
      ]
    },
    {
      "cell_type": "code",
      "execution_count": 249,
      "metadata": {
        "colab": {
          "base_uri": "https://localhost:8080/"
        },
        "id": "933GVYFt8D9n",
        "outputId": "577927f0-5fae-43a5-ed61-60ea69c44a06"
      },
      "outputs": [
        {
          "output_type": "stream",
          "name": "stdout",
          "text": [
            "Requirement already satisfied: yfinance in /usr/local/lib/python3.10/dist-packages (0.2.31)\n",
            "Requirement already satisfied: pandas>=1.3.0 in /usr/local/lib/python3.10/dist-packages (from yfinance) (1.5.3)\n",
            "Requirement already satisfied: numpy>=1.16.5 in /usr/local/lib/python3.10/dist-packages (from yfinance) (1.23.5)\n",
            "Requirement already satisfied: requests>=2.31 in /usr/local/lib/python3.10/dist-packages (from yfinance) (2.31.0)\n",
            "Requirement already satisfied: multitasking>=0.0.7 in /usr/local/lib/python3.10/dist-packages (from yfinance) (0.0.11)\n",
            "Requirement already satisfied: lxml>=4.9.1 in /usr/local/lib/python3.10/dist-packages (from yfinance) (4.9.3)\n",
            "Requirement already satisfied: appdirs>=1.4.4 in /usr/local/lib/python3.10/dist-packages (from yfinance) (1.4.4)\n",
            "Requirement already satisfied: pytz>=2022.5 in /usr/local/lib/python3.10/dist-packages (from yfinance) (2023.3.post1)\n",
            "Requirement already satisfied: frozendict>=2.3.4 in /usr/local/lib/python3.10/dist-packages (from yfinance) (2.3.8)\n",
            "Requirement already satisfied: peewee>=3.16.2 in /usr/local/lib/python3.10/dist-packages (from yfinance) (3.17.0)\n",
            "Requirement already satisfied: beautifulsoup4>=4.11.1 in /usr/local/lib/python3.10/dist-packages (from yfinance) (4.11.2)\n",
            "Requirement already satisfied: html5lib>=1.1 in /usr/local/lib/python3.10/dist-packages (from yfinance) (1.1)\n",
            "Requirement already satisfied: soupsieve>1.2 in /usr/local/lib/python3.10/dist-packages (from beautifulsoup4>=4.11.1->yfinance) (2.5)\n",
            "Requirement already satisfied: six>=1.9 in /usr/local/lib/python3.10/dist-packages (from html5lib>=1.1->yfinance) (1.16.0)\n",
            "Requirement already satisfied: webencodings in /usr/local/lib/python3.10/dist-packages (from html5lib>=1.1->yfinance) (0.5.1)\n",
            "Requirement already satisfied: python-dateutil>=2.8.1 in /usr/local/lib/python3.10/dist-packages (from pandas>=1.3.0->yfinance) (2.8.2)\n",
            "Requirement already satisfied: charset-normalizer<4,>=2 in /usr/local/lib/python3.10/dist-packages (from requests>=2.31->yfinance) (3.3.2)\n",
            "Requirement already satisfied: idna<4,>=2.5 in /usr/local/lib/python3.10/dist-packages (from requests>=2.31->yfinance) (3.4)\n",
            "Requirement already satisfied: urllib3<3,>=1.21.1 in /usr/local/lib/python3.10/dist-packages (from requests>=2.31->yfinance) (2.0.7)\n",
            "Requirement already satisfied: certifi>=2017.4.17 in /usr/local/lib/python3.10/dist-packages (from requests>=2.31->yfinance) (2023.7.22)\n"
          ]
        }
      ],
      "source": [
        "pip install yfinance"
      ]
    },
    {
      "cell_type": "markdown",
      "metadata": {
        "id": "MrHbba0x-ndO"
      },
      "source": [
        "Ahora vamos  guardar la informacion en el historico en el dataframe df_bitcoin\n"
      ]
    },
    {
      "cell_type": "code",
      "execution_count": 250,
      "metadata": {
        "id": "RJfa8r9U-m1_"
      },
      "outputs": [],
      "source": [
        "#Importamos las librerias\n",
        "import yfinance as yf\n",
        "import pandas as pd\n",
        "import matplotlib.pyplot as plt\n",
        "from datetime import datetime, timedelta\n",
        "import pytz"
      ]
    },
    {
      "cell_type": "markdown",
      "metadata": {
        "id": "Taud38jUiKzl"
      },
      "source": [
        "Este código creará un DataFrame llamado df_bitcoin con el histórico de precios del Bitcoin en intervalos de 5 minutos para los últimos 7 días.\n",
        "\n",
        "En este ejemplo, la función extraer_tendencias utiliza global para acceder y modificar las variables globales definidas al comienzo del script. La función extrae datos históricos, calcula el precio actual, la tendencia, la media del Bitcoin y el algoritmo de decisión, y los almacena en las variables globales. Luego, se imprimen las variables globales para verificar los resultados."
      ]
    },
    {
      "cell_type": "code",
      "execution_count": 251,
      "metadata": {
        "colab": {
          "base_uri": "https://localhost:8080/"
        },
        "id": "xzb5yVtG15ve",
        "outputId": "b375b892-bdd1-49a1-df0f-145c7bb78c86"
      },
      "outputs": [
        {
          "output_type": "stream",
          "name": "stdout",
          "text": [
            "Precio Actual: 35320.12\n",
            "Tendencia: Alcista\n",
            "Media Bitcoin: 33583.57\n",
            "Algoritmo de Decisión: Esperar\n"
          ]
        }
      ],
      "source": [
        "def extraer_tendencias():\n",
        "    global df_bitcoin, precio_actual, tendencia, media_bitcoin, algoritmo_decision\n",
        "\n",
        "    # Crear un objeto de la clase Ticker para BTC-USD\n",
        "    bitcoin = yf.Ticker(\"BTC-USD\")\n",
        "\n",
        "    # Obtener el histórico de precios de los últimos 7 días en intervalos de 5 minutos\n",
        "    df_bitcoin = bitcoin.history(period=\"30d\", interval=\"5m\")\n",
        "\n",
        "    # Calcular el precio actual como el último precio en el DataFrame\n",
        "    precio_actual = df_bitcoin['Close'].iloc[-1].round(2)\n",
        "\n",
        "    # Calcular la media del precio de cierre\n",
        "    media_bitcoin = df_bitcoin['Close'].mean().round(2)\n",
        "\n",
        "    # Establecer una tendencia simple basada en la comparación de precios\n",
        "    if precio_actual >= media_bitcoin:\n",
        "        tendencia = \"Alcista\"\n",
        "    else:\n",
        "        tendencia = \"Bajista\"\n",
        "\n",
        "    # Definir un algoritmo de decisión\n",
        "    if precio_actual > media_bitcoin and tendencia =='baja':\n",
        "        algoritmo_decision = \"Vender\"\n",
        "    elif precio_actual < media_bitcoin and tendencia =='alta':\n",
        "         algoritmo_decision = \"Comprar\"\n",
        "    else:\n",
        "         algoritmo_decision='Esperar'\n",
        "\n",
        "# Llama a la función para extraer las tendencias\n",
        "extraer_tendencias()\n",
        "\n",
        "# Imprime las variables globales\n",
        "print(\"Precio Actual:\", precio_actual)\n",
        "print(\"Tendencia:\", tendencia)\n",
        "print(\"Media Bitcoin:\", media_bitcoin)\n",
        "print(\"Algoritmo de Decisión:\", algoritmo_decision)\n"
      ]
    },
    {
      "cell_type": "code",
      "execution_count": 252,
      "metadata": {
        "colab": {
          "base_uri": "https://localhost:8080/",
          "height": 300
        },
        "id": "VhV2sRCTi2r9",
        "outputId": "819fb65e-6932-49e1-959e-35a4e53d41d6"
      },
      "outputs": [
        {
          "output_type": "execute_result",
          "data": {
            "text/plain": [
              "               Open          High           Low         Close        Volume  \\\n",
              "count   8588.000000   8588.000000   8588.000000   8588.000000  8.588000e+03   \n",
              "mean   33582.564192  33599.748028  33565.995062  33583.565261  2.551837e+07   \n",
              "std     2880.009592   2881.151280   2878.078352   2879.504528  8.258248e+07   \n",
              "min    27132.103516  27142.888672  27130.472656  27138.835938  0.000000e+00   \n",
              "25%    30685.147461  30705.477051  30665.958984  30684.333984  0.000000e+00   \n",
              "50%    34488.669922  34500.722656  34472.988281  34488.728516  7.306240e+05   \n",
              "75%    35286.764648  35298.362305  35266.728516  35284.874023  2.285901e+07   \n",
              "max    37904.132812  37926.257812  37810.367188  37926.257812  3.564442e+09   \n",
              "\n",
              "       Dividends  Stock Splits  \n",
              "count     8588.0        8588.0  \n",
              "mean         0.0           0.0  \n",
              "std          0.0           0.0  \n",
              "min          0.0           0.0  \n",
              "25%          0.0           0.0  \n",
              "50%          0.0           0.0  \n",
              "75%          0.0           0.0  \n",
              "max          0.0           0.0  "
            ],
            "text/html": [
              "\n",
              "  <div id=\"df-e5e993cb-1b6e-43e4-aae9-cad345b26444\" class=\"colab-df-container\">\n",
              "    <div>\n",
              "<style scoped>\n",
              "    .dataframe tbody tr th:only-of-type {\n",
              "        vertical-align: middle;\n",
              "    }\n",
              "\n",
              "    .dataframe tbody tr th {\n",
              "        vertical-align: top;\n",
              "    }\n",
              "\n",
              "    .dataframe thead th {\n",
              "        text-align: right;\n",
              "    }\n",
              "</style>\n",
              "<table border=\"1\" class=\"dataframe\">\n",
              "  <thead>\n",
              "    <tr style=\"text-align: right;\">\n",
              "      <th></th>\n",
              "      <th>Open</th>\n",
              "      <th>High</th>\n",
              "      <th>Low</th>\n",
              "      <th>Close</th>\n",
              "      <th>Volume</th>\n",
              "      <th>Dividends</th>\n",
              "      <th>Stock Splits</th>\n",
              "    </tr>\n",
              "  </thead>\n",
              "  <tbody>\n",
              "    <tr>\n",
              "      <th>count</th>\n",
              "      <td>8588.000000</td>\n",
              "      <td>8588.000000</td>\n",
              "      <td>8588.000000</td>\n",
              "      <td>8588.000000</td>\n",
              "      <td>8.588000e+03</td>\n",
              "      <td>8588.0</td>\n",
              "      <td>8588.0</td>\n",
              "    </tr>\n",
              "    <tr>\n",
              "      <th>mean</th>\n",
              "      <td>33582.564192</td>\n",
              "      <td>33599.748028</td>\n",
              "      <td>33565.995062</td>\n",
              "      <td>33583.565261</td>\n",
              "      <td>2.551837e+07</td>\n",
              "      <td>0.0</td>\n",
              "      <td>0.0</td>\n",
              "    </tr>\n",
              "    <tr>\n",
              "      <th>std</th>\n",
              "      <td>2880.009592</td>\n",
              "      <td>2881.151280</td>\n",
              "      <td>2878.078352</td>\n",
              "      <td>2879.504528</td>\n",
              "      <td>8.258248e+07</td>\n",
              "      <td>0.0</td>\n",
              "      <td>0.0</td>\n",
              "    </tr>\n",
              "    <tr>\n",
              "      <th>min</th>\n",
              "      <td>27132.103516</td>\n",
              "      <td>27142.888672</td>\n",
              "      <td>27130.472656</td>\n",
              "      <td>27138.835938</td>\n",
              "      <td>0.000000e+00</td>\n",
              "      <td>0.0</td>\n",
              "      <td>0.0</td>\n",
              "    </tr>\n",
              "    <tr>\n",
              "      <th>25%</th>\n",
              "      <td>30685.147461</td>\n",
              "      <td>30705.477051</td>\n",
              "      <td>30665.958984</td>\n",
              "      <td>30684.333984</td>\n",
              "      <td>0.000000e+00</td>\n",
              "      <td>0.0</td>\n",
              "      <td>0.0</td>\n",
              "    </tr>\n",
              "    <tr>\n",
              "      <th>50%</th>\n",
              "      <td>34488.669922</td>\n",
              "      <td>34500.722656</td>\n",
              "      <td>34472.988281</td>\n",
              "      <td>34488.728516</td>\n",
              "      <td>7.306240e+05</td>\n",
              "      <td>0.0</td>\n",
              "      <td>0.0</td>\n",
              "    </tr>\n",
              "    <tr>\n",
              "      <th>75%</th>\n",
              "      <td>35286.764648</td>\n",
              "      <td>35298.362305</td>\n",
              "      <td>35266.728516</td>\n",
              "      <td>35284.874023</td>\n",
              "      <td>2.285901e+07</td>\n",
              "      <td>0.0</td>\n",
              "      <td>0.0</td>\n",
              "    </tr>\n",
              "    <tr>\n",
              "      <th>max</th>\n",
              "      <td>37904.132812</td>\n",
              "      <td>37926.257812</td>\n",
              "      <td>37810.367188</td>\n",
              "      <td>37926.257812</td>\n",
              "      <td>3.564442e+09</td>\n",
              "      <td>0.0</td>\n",
              "      <td>0.0</td>\n",
              "    </tr>\n",
              "  </tbody>\n",
              "</table>\n",
              "</div>\n",
              "    <div class=\"colab-df-buttons\">\n",
              "\n",
              "  <div class=\"colab-df-container\">\n",
              "    <button class=\"colab-df-convert\" onclick=\"convertToInteractive('df-e5e993cb-1b6e-43e4-aae9-cad345b26444')\"\n",
              "            title=\"Convert this dataframe to an interactive table.\"\n",
              "            style=\"display:none;\">\n",
              "\n",
              "  <svg xmlns=\"http://www.w3.org/2000/svg\" height=\"24px\" viewBox=\"0 -960 960 960\">\n",
              "    <path d=\"M120-120v-720h720v720H120Zm60-500h600v-160H180v160Zm220 220h160v-160H400v160Zm0 220h160v-160H400v160ZM180-400h160v-160H180v160Zm440 0h160v-160H620v160ZM180-180h160v-160H180v160Zm440 0h160v-160H620v160Z\"/>\n",
              "  </svg>\n",
              "    </button>\n",
              "\n",
              "  <style>\n",
              "    .colab-df-container {\n",
              "      display:flex;\n",
              "      gap: 12px;\n",
              "    }\n",
              "\n",
              "    .colab-df-convert {\n",
              "      background-color: #E8F0FE;\n",
              "      border: none;\n",
              "      border-radius: 50%;\n",
              "      cursor: pointer;\n",
              "      display: none;\n",
              "      fill: #1967D2;\n",
              "      height: 32px;\n",
              "      padding: 0 0 0 0;\n",
              "      width: 32px;\n",
              "    }\n",
              "\n",
              "    .colab-df-convert:hover {\n",
              "      background-color: #E2EBFA;\n",
              "      box-shadow: 0px 1px 2px rgba(60, 64, 67, 0.3), 0px 1px 3px 1px rgba(60, 64, 67, 0.15);\n",
              "      fill: #174EA6;\n",
              "    }\n",
              "\n",
              "    .colab-df-buttons div {\n",
              "      margin-bottom: 4px;\n",
              "    }\n",
              "\n",
              "    [theme=dark] .colab-df-convert {\n",
              "      background-color: #3B4455;\n",
              "      fill: #D2E3FC;\n",
              "    }\n",
              "\n",
              "    [theme=dark] .colab-df-convert:hover {\n",
              "      background-color: #434B5C;\n",
              "      box-shadow: 0px 1px 3px 1px rgba(0, 0, 0, 0.15);\n",
              "      filter: drop-shadow(0px 1px 2px rgba(0, 0, 0, 0.3));\n",
              "      fill: #FFFFFF;\n",
              "    }\n",
              "  </style>\n",
              "\n",
              "    <script>\n",
              "      const buttonEl =\n",
              "        document.querySelector('#df-e5e993cb-1b6e-43e4-aae9-cad345b26444 button.colab-df-convert');\n",
              "      buttonEl.style.display =\n",
              "        google.colab.kernel.accessAllowed ? 'block' : 'none';\n",
              "\n",
              "      async function convertToInteractive(key) {\n",
              "        const element = document.querySelector('#df-e5e993cb-1b6e-43e4-aae9-cad345b26444');\n",
              "        const dataTable =\n",
              "          await google.colab.kernel.invokeFunction('convertToInteractive',\n",
              "                                                    [key], {});\n",
              "        if (!dataTable) return;\n",
              "\n",
              "        const docLinkHtml = 'Like what you see? Visit the ' +\n",
              "          '<a target=\"_blank\" href=https://colab.research.google.com/notebooks/data_table.ipynb>data table notebook</a>'\n",
              "          + ' to learn more about interactive tables.';\n",
              "        element.innerHTML = '';\n",
              "        dataTable['output_type'] = 'display_data';\n",
              "        await google.colab.output.renderOutput(dataTable, element);\n",
              "        const docLink = document.createElement('div');\n",
              "        docLink.innerHTML = docLinkHtml;\n",
              "        element.appendChild(docLink);\n",
              "      }\n",
              "    </script>\n",
              "  </div>\n",
              "\n",
              "\n",
              "<div id=\"df-0141a48c-c23e-4bd2-b9b9-9aca0acbb5ce\">\n",
              "  <button class=\"colab-df-quickchart\" onclick=\"quickchart('df-0141a48c-c23e-4bd2-b9b9-9aca0acbb5ce')\"\n",
              "            title=\"Suggest charts\"\n",
              "            style=\"display:none;\">\n",
              "\n",
              "<svg xmlns=\"http://www.w3.org/2000/svg\" height=\"24px\"viewBox=\"0 0 24 24\"\n",
              "     width=\"24px\">\n",
              "    <g>\n",
              "        <path d=\"M19 3H5c-1.1 0-2 .9-2 2v14c0 1.1.9 2 2 2h14c1.1 0 2-.9 2-2V5c0-1.1-.9-2-2-2zM9 17H7v-7h2v7zm4 0h-2V7h2v10zm4 0h-2v-4h2v4z\"/>\n",
              "    </g>\n",
              "</svg>\n",
              "  </button>\n",
              "\n",
              "<style>\n",
              "  .colab-df-quickchart {\n",
              "      --bg-color: #E8F0FE;\n",
              "      --fill-color: #1967D2;\n",
              "      --hover-bg-color: #E2EBFA;\n",
              "      --hover-fill-color: #174EA6;\n",
              "      --disabled-fill-color: #AAA;\n",
              "      --disabled-bg-color: #DDD;\n",
              "  }\n",
              "\n",
              "  [theme=dark] .colab-df-quickchart {\n",
              "      --bg-color: #3B4455;\n",
              "      --fill-color: #D2E3FC;\n",
              "      --hover-bg-color: #434B5C;\n",
              "      --hover-fill-color: #FFFFFF;\n",
              "      --disabled-bg-color: #3B4455;\n",
              "      --disabled-fill-color: #666;\n",
              "  }\n",
              "\n",
              "  .colab-df-quickchart {\n",
              "    background-color: var(--bg-color);\n",
              "    border: none;\n",
              "    border-radius: 50%;\n",
              "    cursor: pointer;\n",
              "    display: none;\n",
              "    fill: var(--fill-color);\n",
              "    height: 32px;\n",
              "    padding: 0;\n",
              "    width: 32px;\n",
              "  }\n",
              "\n",
              "  .colab-df-quickchart:hover {\n",
              "    background-color: var(--hover-bg-color);\n",
              "    box-shadow: 0 1px 2px rgba(60, 64, 67, 0.3), 0 1px 3px 1px rgba(60, 64, 67, 0.15);\n",
              "    fill: var(--button-hover-fill-color);\n",
              "  }\n",
              "\n",
              "  .colab-df-quickchart-complete:disabled,\n",
              "  .colab-df-quickchart-complete:disabled:hover {\n",
              "    background-color: var(--disabled-bg-color);\n",
              "    fill: var(--disabled-fill-color);\n",
              "    box-shadow: none;\n",
              "  }\n",
              "\n",
              "  .colab-df-spinner {\n",
              "    border: 2px solid var(--fill-color);\n",
              "    border-color: transparent;\n",
              "    border-bottom-color: var(--fill-color);\n",
              "    animation:\n",
              "      spin 1s steps(1) infinite;\n",
              "  }\n",
              "\n",
              "  @keyframes spin {\n",
              "    0% {\n",
              "      border-color: transparent;\n",
              "      border-bottom-color: var(--fill-color);\n",
              "      border-left-color: var(--fill-color);\n",
              "    }\n",
              "    20% {\n",
              "      border-color: transparent;\n",
              "      border-left-color: var(--fill-color);\n",
              "      border-top-color: var(--fill-color);\n",
              "    }\n",
              "    30% {\n",
              "      border-color: transparent;\n",
              "      border-left-color: var(--fill-color);\n",
              "      border-top-color: var(--fill-color);\n",
              "      border-right-color: var(--fill-color);\n",
              "    }\n",
              "    40% {\n",
              "      border-color: transparent;\n",
              "      border-right-color: var(--fill-color);\n",
              "      border-top-color: var(--fill-color);\n",
              "    }\n",
              "    60% {\n",
              "      border-color: transparent;\n",
              "      border-right-color: var(--fill-color);\n",
              "    }\n",
              "    80% {\n",
              "      border-color: transparent;\n",
              "      border-right-color: var(--fill-color);\n",
              "      border-bottom-color: var(--fill-color);\n",
              "    }\n",
              "    90% {\n",
              "      border-color: transparent;\n",
              "      border-bottom-color: var(--fill-color);\n",
              "    }\n",
              "  }\n",
              "</style>\n",
              "\n",
              "  <script>\n",
              "    async function quickchart(key) {\n",
              "      const quickchartButtonEl =\n",
              "        document.querySelector('#' + key + ' button');\n",
              "      quickchartButtonEl.disabled = true;  // To prevent multiple clicks.\n",
              "      quickchartButtonEl.classList.add('colab-df-spinner');\n",
              "      try {\n",
              "        const charts = await google.colab.kernel.invokeFunction(\n",
              "            'suggestCharts', [key], {});\n",
              "      } catch (error) {\n",
              "        console.error('Error during call to suggestCharts:', error);\n",
              "      }\n",
              "      quickchartButtonEl.classList.remove('colab-df-spinner');\n",
              "      quickchartButtonEl.classList.add('colab-df-quickchart-complete');\n",
              "    }\n",
              "    (() => {\n",
              "      let quickchartButtonEl =\n",
              "        document.querySelector('#df-0141a48c-c23e-4bd2-b9b9-9aca0acbb5ce button');\n",
              "      quickchartButtonEl.style.display =\n",
              "        google.colab.kernel.accessAllowed ? 'block' : 'none';\n",
              "    })();\n",
              "  </script>\n",
              "</div>\n",
              "    </div>\n",
              "  </div>\n"
            ]
          },
          "metadata": {},
          "execution_count": 252
        }
      ],
      "source": [
        "df_bitcoin.describe()"
      ]
    },
    {
      "cell_type": "markdown",
      "metadata": {
        "id": "zA2xpj0wi_oy"
      },
      "source": [
        "#**3.Web scraping**"
      ]
    },
    {
      "cell_type": "markdown",
      "metadata": {
        "id": "--JGbWI3jDsy"
      },
      "source": [
        "Para realizar web scraping en la página https://coinmarketcap.com/ y extraer el precio actual del Bitcoin en dólares (USD) y la variación de su precio en la última hora (1h %), necesitamos utilizar la biblioteca BeautifulSoup junto con la biblioteca requests."
      ]
    },
    {
      "cell_type": "code",
      "execution_count": 253,
      "metadata": {
        "colab": {
          "base_uri": "https://localhost:8080/"
        },
        "id": "l3_dsAa9_9lC",
        "outputId": "3ee9ac9f-2202-4f84-b6e0-c6a4388600a4"
      },
      "outputs": [
        {
          "output_type": "stream",
          "name": "stdout",
          "text": [
            "Requirement already satisfied: beautifulsoup4 in /usr/local/lib/python3.10/dist-packages (4.11.2)\n",
            "Requirement already satisfied: requests in /usr/local/lib/python3.10/dist-packages (2.31.0)\n",
            "Requirement already satisfied: soupsieve>1.2 in /usr/local/lib/python3.10/dist-packages (from beautifulsoup4) (2.5)\n",
            "Requirement already satisfied: charset-normalizer<4,>=2 in /usr/local/lib/python3.10/dist-packages (from requests) (3.3.2)\n",
            "Requirement already satisfied: idna<4,>=2.5 in /usr/local/lib/python3.10/dist-packages (from requests) (3.4)\n",
            "Requirement already satisfied: urllib3<3,>=1.21.1 in /usr/local/lib/python3.10/dist-packages (from requests) (2.0.7)\n",
            "Requirement already satisfied: certifi>=2017.4.17 in /usr/local/lib/python3.10/dist-packages (from requests) (2023.7.22)\n"
          ]
        }
      ],
      "source": [
        "#Instalo la bilioteca beautifulsoup4\n",
        "!pip install beautifulsoup4 requests"
      ]
    },
    {
      "cell_type": "markdown",
      "metadata": {
        "id": "gt0ntc3dBONk"
      },
      "source": [
        "creamos un script que realice el web scraping de la siguiente manera:\n",
        "\n",
        "Este script realiza una solicitud GET a la página de CoinMarketCap, utiliza\n",
        "BeautifulSoup para analizar el HTML y extrae el precio actual del Bitcoin en USD, así como la variación en la última hora. Luego, determina si la tendencia es \"alta\" o \"baja\" en función del cambio en la última hora. Por último, muestra el precio actual y la tendencia."
      ]
    },
    {
      "cell_type": "code",
      "execution_count": 254,
      "metadata": {
        "id": "KoT8G79719Wm"
      },
      "outputs": [],
      "source": [
        "from bs4 import BeautifulSoup\n",
        "import requests"
      ]
    },
    {
      "cell_type": "code",
      "execution_count": 255,
      "metadata": {
        "colab": {
          "base_uri": "https://localhost:8080/"
        },
        "id": "-O2eTXW2Cz9N",
        "outputId": "fcb0499e-1460-48ca-89a8-78e73787a88f"
      },
      "outputs": [
        {
          "output_type": "stream",
          "name": "stdout",
          "text": [
            "Precio Actual: 35320.12\n",
            "Tendencia: baja\n",
            "Media Bitcoin: 33583.57\n",
            "Algoritmo de Decisión: Esperar\n"
          ]
        }
      ],
      "source": [
        "def extraer_tendencias():\n",
        "  global df_bitcoin, precio_actual, tendencia, media_bitcoin, algoritmo_decision\n",
        "  from bs4 import BeautifulSoup\n",
        "  import requests\n",
        "\n",
        "# Crear un objeto de la clase Ticker para BTC-USD\n",
        "  bitcoin = yf.Ticker(\"BTC-USD\")\n",
        "\n",
        "\n",
        "headers = {'User-Agent' : 'Mozilla/5.0 (Windows NT 10.0; Win64; x64; rv:109.0) Gecko/20100101 Firefox/118.0'}\n",
        "# URL de la página de CoinMarketCap\n",
        "url = \"https://coinmarketcap.com/\"\n",
        "# Realizar una solicitud GET a la URL\n",
        "response = requests.get(url, headers=headers)\n",
        "# Parsear el contenido de la página con BeautifulSoup\n",
        "soup = BeautifulSoup(response.content, features = 'lxml')\n",
        "\n",
        "\n",
        "# Buscar el elemento que contiene el precio actual del Bitcoin en USD\n",
        "bitcoin_price_element = soup.find('div', {'class': ['sc-a0353bbc-0 gDrtaY rise','sc-a0353bbc-0 gDrtaY','sc-a0353bbc-0 gDrtaY fall']})\n",
        "#Buscar el elemento que contiene la variación del precio en la última hora (1h %)\n",
        "bitcoin_1h_change_element = soup.find('span', {'class': ['sc-d55c02b-0 gUnzUB','sc-d55c02b-0 iwhBxy']})\n",
        "\n",
        "\n",
        "span_element = bitcoin_price_element.find('span')\n",
        "span_element2 = bitcoin_1h_change_element.find('span')\n",
        "\n",
        "variacion = span_element2.get('class')\n",
        "\n",
        "precio = span_element.text.strip()\n",
        "precio_actual = float(precio.replace('$', '').replace(',', ''))\n",
        "\n",
        "\n",
        "variacion = str(variacion)\n",
        "\n",
        "# Llama a la función para extraer las tendencias\n",
        "\n",
        "extraer_tendencias()\n",
        "\n",
        "if variacion == \"['icon-Caret-up']\":\n",
        "    tendencia = \"alta\"\n",
        "elif variacion == \"['icon-Caret-down']\":\n",
        "    tendencia = \"baja\"\n",
        "else:\n",
        "    tendencia = \"\"\n",
        "\n",
        "\n",
        "# Imprime las variables globales\n",
        "print(\"Precio Actual:\", precio_actual)\n",
        "print(\"Tendencia:\", tendencia)\n",
        "print(\"Media Bitcoin:\", media_bitcoin)\n",
        "print(\"Algoritmo de Decisión:\", algoritmo_decision)\n"
      ]
    },
    {
      "cell_type": "markdown",
      "metadata": {
        "id": "uOGdseZyfVVa"
      },
      "source": [
        "#**4.Limpieza de Datos Y Exploracion de datos**\n",
        "\n"
      ]
    },
    {
      "cell_type": "code",
      "execution_count": 256,
      "metadata": {
        "colab": {
          "base_uri": "https://localhost:8080/"
        },
        "id": "ON1TBlCRUMNX",
        "outputId": "5a2034ae-7f66-4af1-8627-1a432b03ec83"
      },
      "outputs": [
        {
          "output_type": "stream",
          "name": "stdout",
          "text": [
            "<class 'pandas.core.frame.DataFrame'>\n",
            "DatetimeIndex: 8588 entries, 2023-10-16 00:00:00+00:00 to 2023-11-14 21:05:00+00:00\n",
            "Data columns (total 7 columns):\n",
            " #   Column        Non-Null Count  Dtype  \n",
            "---  ------        --------------  -----  \n",
            " 0   Open          8588 non-null   float64\n",
            " 1   High          8588 non-null   float64\n",
            " 2   Low           8588 non-null   float64\n",
            " 3   Close         8588 non-null   float64\n",
            " 4   Volume        8588 non-null   int64  \n",
            " 5   Dividends     8588 non-null   float64\n",
            " 6   Stock Splits  8588 non-null   float64\n",
            "dtypes: float64(6), int64(1)\n",
            "memory usage: 536.8 KB\n"
          ]
        }
      ],
      "source": [
        "df_bitcoin_limpio = df_bitcoin.copy()\n",
        "df_bitcoin_limpio.info()"
      ]
    },
    {
      "cell_type": "markdown",
      "metadata": {
        "id": "oTmh8GDkkbpo"
      },
      "source": [
        "En este ejemplo, primero se crea un DataFrame df_bitcoin con algunos datos de ejemplo. Luego, se utiliza el método copy() para crear una copia independiente en el DataFrame df_bitcoin_limpio"
      ]
    },
    {
      "cell_type": "code",
      "execution_count": 257,
      "metadata": {
        "colab": {
          "base_uri": "https://localhost:8080/",
          "height": 448
        },
        "id": "ZoEpheh4w2ZR",
        "outputId": "d6343abb-07aa-4a39-f3bc-67b0d67f7ada"
      },
      "outputs": [
        {
          "output_type": "execute_result",
          "data": {
            "text/plain": [
              "<Axes: >"
            ]
          },
          "metadata": {},
          "execution_count": 257
        },
        {
          "output_type": "display_data",
          "data": {
            "text/plain": [
              "<Figure size 640x480 with 1 Axes>"
            ],
            "image/png": "[encoded data removed]"
          },
          "metadata": {}
        }
      ],
      "source": [
        "#Datos sin tratar\n",
        "df_bitcoin.boxplot(['Close'])\n",
        "\n"
      ]
    },
    {
      "cell_type": "code",
      "execution_count": 258,
      "metadata": {
        "colab": {
          "base_uri": "https://localhost:8080/"
        },
        "id": "w2XCkIJXfmbC",
        "outputId": "5901ea83-f50b-4bee-d07a-8167b1d5ed2b"
      },
      "outputs": [
        {
          "output_type": "stream",
          "name": "stdout",
          "text": [
            "Precio Actual: 35320.12\n",
            "Tendencia: baja\n",
            "Media Bitcoin: 33583.57\n",
            "Algoritmo de Decisión: Esperar\n"
          ]
        }
      ],
      "source": [
        "# Crear una copia del DataFrame df_bitcoin en df_bitcoin_limpio\n",
        "df_bitcoin_limpio = df_bitcoin.copy()\n",
        "# Imprime las variables globales\n",
        "print(\"Precio Actual:\", precio_actual)\n",
        "print(\"Tendencia:\", tendencia)\n",
        "print(\"Media Bitcoin:\", media_bitcoin)\n",
        "print(\"Algoritmo de Decisión:\", algoritmo_decision)\n"
      ]
    },
    {
      "cell_type": "code",
      "execution_count": 259,
      "metadata": {
        "colab": {
          "base_uri": "https://localhost:8080/",
          "height": 300
        },
        "id": "ntR1vp9AxFLm",
        "outputId": "bd006273-27d5-4f8d-c73f-c6821722e8ed"
      },
      "outputs": [
        {
          "output_type": "execute_result",
          "data": {
            "text/plain": [
              "               Open          High           Low         Close        Volume  \\\n",
              "count   8588.000000   8588.000000   8588.000000   8588.000000  8.588000e+03   \n",
              "mean   33582.564192  33599.748028  33565.995062  33583.565261  2.551837e+07   \n",
              "std     2880.009592   2881.151280   2878.078352   2879.504528  8.258248e+07   \n",
              "min    27132.103516  27142.888672  27130.472656  27138.835938  0.000000e+00   \n",
              "25%    30685.147461  30705.477051  30665.958984  30684.333984  0.000000e+00   \n",
              "50%    34488.669922  34500.722656  34472.988281  34488.728516  7.306240e+05   \n",
              "75%    35286.764648  35298.362305  35266.728516  35284.874023  2.285901e+07   \n",
              "max    37904.132812  37926.257812  37810.367188  37926.257812  3.564442e+09   \n",
              "\n",
              "       Dividends  Stock Splits  \n",
              "count     8588.0        8588.0  \n",
              "mean         0.0           0.0  \n",
              "std          0.0           0.0  \n",
              "min          0.0           0.0  \n",
              "25%          0.0           0.0  \n",
              "50%          0.0           0.0  \n",
              "75%          0.0           0.0  \n",
              "max          0.0           0.0  "
            ],
            "text/html": [
              "\n",
              "  <div id=\"df-9b0bf6fa-f20c-4ceb-9ddd-8b59743d42c9\" class=\"colab-df-container\">\n",
              "    <div>\n",
              "<style scoped>\n",
              "    .dataframe tbody tr th:only-of-type {\n",
              "        vertical-align: middle;\n",
              "    }\n",
              "\n",
              "    .dataframe tbody tr th {\n",
              "        vertical-align: top;\n",
              "    }\n",
              "\n",
              "    .dataframe thead th {\n",
              "        text-align: right;\n",
              "    }\n",
              "</style>\n",
              "<table border=\"1\" class=\"dataframe\">\n",
              "  <thead>\n",
              "    <tr style=\"text-align: right;\">\n",
              "      <th></th>\n",
              "      <th>Open</th>\n",
              "      <th>High</th>\n",
              "      <th>Low</th>\n",
              "      <th>Close</th>\n",
              "      <th>Volume</th>\n",
              "      <th>Dividends</th>\n",
              "      <th>Stock Splits</th>\n",
              "    </tr>\n",
              "  </thead>\n",
              "  <tbody>\n",
              "    <tr>\n",
              "      <th>count</th>\n",
              "      <td>8588.000000</td>\n",
              "      <td>8588.000000</td>\n",
              "      <td>8588.000000</td>\n",
              "      <td>8588.000000</td>\n",
              "      <td>8.588000e+03</td>\n",
              "      <td>8588.0</td>\n",
              "      <td>8588.0</td>\n",
              "    </tr>\n",
              "    <tr>\n",
              "      <th>mean</th>\n",
              "      <td>33582.564192</td>\n",
              "      <td>33599.748028</td>\n",
              "      <td>33565.995062</td>\n",
              "      <td>33583.565261</td>\n",
              "      <td>2.551837e+07</td>\n",
              "      <td>0.0</td>\n",
              "      <td>0.0</td>\n",
              "    </tr>\n",
              "    <tr>\n",
              "      <th>std</th>\n",
              "      <td>2880.009592</td>\n",
              "      <td>2881.151280</td>\n",
              "      <td>2878.078352</td>\n",
              "      <td>2879.504528</td>\n",
              "      <td>8.258248e+07</td>\n",
              "      <td>0.0</td>\n",
              "      <td>0.0</td>\n",
              "    </tr>\n",
              "    <tr>\n",
              "      <th>min</th>\n",
              "      <td>27132.103516</td>\n",
              "      <td>27142.888672</td>\n",
              "      <td>27130.472656</td>\n",
              "      <td>27138.835938</td>\n",
              "      <td>0.000000e+00</td>\n",
              "      <td>0.0</td>\n",
              "      <td>0.0</td>\n",
              "    </tr>\n",
              "    <tr>\n",
              "      <th>25%</th>\n",
              "      <td>30685.147461</td>\n",
              "      <td>30705.477051</td>\n",
              "      <td>30665.958984</td>\n",
              "      <td>30684.333984</td>\n",
              "      <td>0.000000e+00</td>\n",
              "      <td>0.0</td>\n",
              "      <td>0.0</td>\n",
              "    </tr>\n",
              "    <tr>\n",
              "      <th>50%</th>\n",
              "      <td>34488.669922</td>\n",
              "      <td>34500.722656</td>\n",
              "      <td>34472.988281</td>\n",
              "      <td>34488.728516</td>\n",
              "      <td>7.306240e+05</td>\n",
              "      <td>0.0</td>\n",
              "      <td>0.0</td>\n",
              "    </tr>\n",
              "    <tr>\n",
              "      <th>75%</th>\n",
              "      <td>35286.764648</td>\n",
              "      <td>35298.362305</td>\n",
              "      <td>35266.728516</td>\n",
              "      <td>35284.874023</td>\n",
              "      <td>2.285901e+07</td>\n",
              "      <td>0.0</td>\n",
              "      <td>0.0</td>\n",
              "    </tr>\n",
              "    <tr>\n",
              "      <th>max</th>\n",
              "      <td>37904.132812</td>\n",
              "      <td>37926.257812</td>\n",
              "      <td>37810.367188</td>\n",
              "      <td>37926.257812</td>\n",
              "      <td>3.564442e+09</td>\n",
              "      <td>0.0</td>\n",
              "      <td>0.0</td>\n",
              "    </tr>\n",
              "  </tbody>\n",
              "</table>\n",
              "</div>\n",
              "    <div class=\"colab-df-buttons\">\n",
              "\n",
              "  <div class=\"colab-df-container\">\n",
              "    <button class=\"colab-df-convert\" onclick=\"convertToInteractive('df-9b0bf6fa-f20c-4ceb-9ddd-8b59743d42c9')\"\n",
              "            title=\"Convert this dataframe to an interactive table.\"\n",
              "            style=\"display:none;\">\n",
              "\n",
              "  <svg xmlns=\"http://www.w3.org/2000/svg\" height=\"24px\" viewBox=\"0 -960 960 960\">\n",
              "    <path d=\"M120-120v-720h720v720H120Zm60-500h600v-160H180v160Zm220 220h160v-160H400v160Zm0 220h160v-160H400v160ZM180-400h160v-160H180v160Zm440 0h160v-160H620v160ZM180-180h160v-160H180v160Zm440 0h160v-160H620v160Z\"/>\n",
              "  </svg>\n",
              "    </button>\n",
              "\n",
              "  <style>\n",
              "    .colab-df-container {\n",
              "      display:flex;\n",
              "      gap: 12px;\n",
              "    }\n",
              "\n",
              "    .colab-df-convert {\n",
              "      background-color: #E8F0FE;\n",
              "      border: none;\n",
              "      border-radius: 50%;\n",
              "      cursor: pointer;\n",
              "      display: none;\n",
              "      fill: #1967D2;\n",
              "      height: 32px;\n",
              "      padding: 0 0 0 0;\n",
              "      width: 32px;\n",
              "    }\n",
              "\n",
              "    .colab-df-convert:hover {\n",
              "      background-color: #E2EBFA;\n",
              "      box-shadow: 0px 1px 2px rgba(60, 64, 67, 0.3), 0px 1px 3px 1px rgba(60, 64, 67, 0.15);\n",
              "      fill: #174EA6;\n",
              "    }\n",
              "\n",
              "    .colab-df-buttons div {\n",
              "      margin-bottom: 4px;\n",
              "    }\n",
              "\n",
              "    [theme=dark] .colab-df-convert {\n",
              "      background-color: #3B4455;\n",
              "      fill: #D2E3FC;\n",
              "    }\n",
              "\n",
              "    [theme=dark] .colab-df-convert:hover {\n",
              "      background-color: #434B5C;\n",
              "      box-shadow: 0px 1px 3px 1px rgba(0, 0, 0, 0.15);\n",
              "      filter: drop-shadow(0px 1px 2px rgba(0, 0, 0, 0.3));\n",
              "      fill: #FFFFFF;\n",
              "    }\n",
              "  </style>\n",
              "\n",
              "    <script>\n",
              "      const buttonEl =\n",
              "        document.querySelector('#df-9b0bf6fa-f20c-4ceb-9ddd-8b59743d42c9 button.colab-df-convert');\n",
              "      buttonEl.style.display =\n",
              "        google.colab.kernel.accessAllowed ? 'block' : 'none';\n",
              "\n",
              "      async function convertToInteractive(key) {\n",
              "        const element = document.querySelector('#df-9b0bf6fa-f20c-4ceb-9ddd-8b59743d42c9');\n",
              "        const dataTable =\n",
              "          await google.colab.kernel.invokeFunction('convertToInteractive',\n",
              "                                                    [key], {});\n",
              "        if (!dataTable) return;\n",
              "\n",
              "        const docLinkHtml = 'Like what you see? Visit the ' +\n",
              "          '<a target=\"_blank\" href=https://colab.research.google.com/notebooks/data_table.ipynb>data table notebook</a>'\n",
              "          + ' to learn more about interactive tables.';\n",
              "        element.innerHTML = '';\n",
              "        dataTable['output_type'] = 'display_data';\n",
              "        await google.colab.output.renderOutput(dataTable, element);\n",
              "        const docLink = document.createElement('div');\n",
              "        docLink.innerHTML = docLinkHtml;\n",
              "        element.appendChild(docLink);\n",
              "      }\n",
              "    </script>\n",
              "  </div>\n",
              "\n",
              "\n",
              "<div id=\"df-6ad28668-9c27-41de-92dc-edeff443fdb2\">\n",
              "  <button class=\"colab-df-quickchart\" onclick=\"quickchart('df-6ad28668-9c27-41de-92dc-edeff443fdb2')\"\n",
              "            title=\"Suggest charts\"\n",
              "            style=\"display:none;\">\n",
              "\n",
              "<svg xmlns=\"http://www.w3.org/2000/svg\" height=\"24px\"viewBox=\"0 0 24 24\"\n",
              "     width=\"24px\">\n",
              "    <g>\n",
              "        <path d=\"M19 3H5c-1.1 0-2 .9-2 2v14c0 1.1.9 2 2 2h14c1.1 0 2-.9 2-2V5c0-1.1-.9-2-2-2zM9 17H7v-7h2v7zm4 0h-2V7h2v10zm4 0h-2v-4h2v4z\"/>\n",
              "    </g>\n",
              "</svg>\n",
              "  </button>\n",
              "\n",
              "<style>\n",
              "  .colab-df-quickchart {\n",
              "      --bg-color: #E8F0FE;\n",
              "      --fill-color: #1967D2;\n",
              "      --hover-bg-color: #E2EBFA;\n",
              "      --hover-fill-color: #174EA6;\n",
              "      --disabled-fill-color: #AAA;\n",
              "      --disabled-bg-color: #DDD;\n",
              "  }\n",
              "\n",
              "  [theme=dark] .colab-df-quickchart {\n",
              "      --bg-color: #3B4455;\n",
              "      --fill-color: #D2E3FC;\n",
              "      --hover-bg-color: #434B5C;\n",
              "      --hover-fill-color: #FFFFFF;\n",
              "      --disabled-bg-color: #3B4455;\n",
              "      --disabled-fill-color: #666;\n",
              "  }\n",
              "\n",
              "  .colab-df-quickchart {\n",
              "    background-color: var(--bg-color);\n",
              "    border: none;\n",
              "    border-radius: 50%;\n",
              "    cursor: pointer;\n",
              "    display: none;\n",
              "    fill: var(--fill-color);\n",
              "    height: 32px;\n",
              "    padding: 0;\n",
              "    width: 32px;\n",
              "  }\n",
              "\n",
              "  .colab-df-quickchart:hover {\n",
              "    background-color: var(--hover-bg-color);\n",
              "    box-shadow: 0 1px 2px rgba(60, 64, 67, 0.3), 0 1px 3px 1px rgba(60, 64, 67, 0.15);\n",
              "    fill: var(--button-hover-fill-color);\n",
              "  }\n",
              "\n",
              "  .colab-df-quickchart-complete:disabled,\n",
              "  .colab-df-quickchart-complete:disabled:hover {\n",
              "    background-color: var(--disabled-bg-color);\n",
              "    fill: var(--disabled-fill-color);\n",
              "    box-shadow: none;\n",
              "  }\n",
              "\n",
              "  .colab-df-spinner {\n",
              "    border: 2px solid var(--fill-color);\n",
              "    border-color: transparent;\n",
              "    border-bottom-color: var(--fill-color);\n",
              "    animation:\n",
              "      spin 1s steps(1) infinite;\n",
              "  }\n",
              "\n",
              "  @keyframes spin {\n",
              "    0% {\n",
              "      border-color: transparent;\n",
              "      border-bottom-color: var(--fill-color);\n",
              "      border-left-color: var(--fill-color);\n",
              "    }\n",
              "    20% {\n",
              "      border-color: transparent;\n",
              "      border-left-color: var(--fill-color);\n",
              "      border-top-color: var(--fill-color);\n",
              "    }\n",
              "    30% {\n",
              "      border-color: transparent;\n",
              "      border-left-color: var(--fill-color);\n",
              "      border-top-color: var(--fill-color);\n",
              "      border-right-color: var(--fill-color);\n",
              "    }\n",
              "    40% {\n",
              "      border-color: transparent;\n",
              "      border-right-color: var(--fill-color);\n",
              "      border-top-color: var(--fill-color);\n",
              "    }\n",
              "    60% {\n",
              "      border-color: transparent;\n",
              "      border-right-color: var(--fill-color);\n",
              "    }\n",
              "    80% {\n",
              "      border-color: transparent;\n",
              "      border-right-color: var(--fill-color);\n",
              "      border-bottom-color: var(--fill-color);\n",
              "    }\n",
              "    90% {\n",
              "      border-color: transparent;\n",
              "      border-bottom-color: var(--fill-color);\n",
              "    }\n",
              "  }\n",
              "</style>\n",
              "\n",
              "  <script>\n",
              "    async function quickchart(key) {\n",
              "      const quickchartButtonEl =\n",
              "        document.querySelector('#' + key + ' button');\n",
              "      quickchartButtonEl.disabled = true;  // To prevent multiple clicks.\n",
              "      quickchartButtonEl.classList.add('colab-df-spinner');\n",
              "      try {\n",
              "        const charts = await google.colab.kernel.invokeFunction(\n",
              "            'suggestCharts', [key], {});\n",
              "      } catch (error) {\n",
              "        console.error('Error during call to suggestCharts:', error);\n",
              "      }\n",
              "      quickchartButtonEl.classList.remove('colab-df-spinner');\n",
              "      quickchartButtonEl.classList.add('colab-df-quickchart-complete');\n",
              "    }\n",
              "    (() => {\n",
              "      let quickchartButtonEl =\n",
              "        document.querySelector('#df-6ad28668-9c27-41de-92dc-edeff443fdb2 button');\n",
              "      quickchartButtonEl.style.display =\n",
              "        google.colab.kernel.accessAllowed ? 'block' : 'none';\n",
              "    })();\n",
              "  </script>\n",
              "</div>\n",
              "    </div>\n",
              "  </div>\n"
            ]
          },
          "metadata": {},
          "execution_count": 259
        }
      ],
      "source": [
        "#Metodo describe\n",
        "df_bitcoin_limpio.describe()"
      ]
    },
    {
      "cell_type": "code",
      "execution_count": 260,
      "metadata": {
        "colab": {
          "base_uri": "https://localhost:8080/"
        },
        "id": "pgLjMsdkxeBB",
        "outputId": "4a09efc1-f948-485f-a661-4bae2c460a54"
      },
      "outputs": [
        {
          "output_type": "stream",
          "name": "stdout",
          "text": [
            "<class 'pandas.core.frame.DataFrame'>\n",
            "DatetimeIndex: 8588 entries, 2023-10-16 00:00:00+00:00 to 2023-11-14 21:05:00+00:00\n",
            "Data columns (total 7 columns):\n",
            " #   Column        Non-Null Count  Dtype  \n",
            "---  ------        --------------  -----  \n",
            " 0   Open          8588 non-null   float64\n",
            " 1   High          8588 non-null   float64\n",
            " 2   Low           8588 non-null   float64\n",
            " 3   Close         8588 non-null   float64\n",
            " 4   Volume        8588 non-null   int64  \n",
            " 5   Dividends     8588 non-null   float64\n",
            " 6   Stock Splits  8588 non-null   float64\n",
            "dtypes: float64(6), int64(1)\n",
            "memory usage: 536.8 KB\n"
          ]
        }
      ],
      "source": [
        "df_bitcoin_limpio.info()"
      ]
    },
    {
      "cell_type": "code",
      "execution_count": 261,
      "metadata": {
        "colab": {
          "base_uri": "https://localhost:8080/"
        },
        "id": "9DeCp2y_xmus",
        "outputId": "6987a2d7-c027-4ba2-d7ad-25e21229403a"
      },
      "outputs": [
        {
          "output_type": "execute_result",
          "data": {
            "text/plain": [
              "Open            float64\n",
              "High            float64\n",
              "Low             float64\n",
              "Close           float64\n",
              "Volume            int64\n",
              "Dividends       float64\n",
              "Stock Splits    float64\n",
              "dtype: object"
            ]
          },
          "metadata": {},
          "execution_count": 261
        }
      ],
      "source": [
        "df_bitcoin_limpio.dtypes"
      ]
    },
    {
      "cell_type": "code",
      "execution_count": 262,
      "metadata": {
        "colab": {
          "base_uri": "https://localhost:8080/"
        },
        "id": "sKZPZPuMxrQW",
        "outputId": "b322713d-a055-48e4-c5ee-a643278be0ce"
      },
      "outputs": [
        {
          "output_type": "execute_result",
          "data": {
            "text/plain": [
              "(8588, 7)"
            ]
          },
          "metadata": {},
          "execution_count": 262
        }
      ],
      "source": [
        "df_bitcoin_limpio.shape"
      ]
    },
    {
      "cell_type": "code",
      "execution_count": 263,
      "metadata": {
        "colab": {
          "base_uri": "https://localhost:8080/"
        },
        "id": "kbLQ7ay0xrTD",
        "outputId": "865ff6df-1598-40c0-8fa9-ca110847f7e2"
      },
      "outputs": [
        {
          "output_type": "stream",
          "name": "stdout",
          "text": [
            "La base de datos presenta 8588 registros  y 7 columnas\n"
          ]
        }
      ],
      "source": [
        "df_bitcoin_limpio.shape[0]\n",
        "df_bitcoin_limpio.shape[1]\n",
        "\n",
        "print('La base de datos presenta {} registros  y {} columnas'.format(df_bitcoin_limpio.shape[0],df_bitcoin_limpio.shape[1]))"
      ]
    },
    {
      "cell_type": "markdown",
      "metadata": {
        "id": "SxmjQA_mkhyG"
      },
      "source": [
        "El código utiliza la función duplicated en el índice del DataFrame para identificar duplicados y luego usa la negación ~ para seleccionar solo las filas que no están duplicadas, conservando la primera ocurrencia de cada duplicado. El resultado es un DataFrame con índices únicos."
      ]
    },
    {
      "cell_type": "code",
      "execution_count": 264,
      "metadata": {
        "colab": {
          "base_uri": "https://localhost:8080/"
        },
        "id": "25YArhOvf4Jg",
        "outputId": "6b71c652-95bb-4aa8-9fa2-c7f652abc381"
      },
      "outputs": [
        {
          "output_type": "stream",
          "name": "stdout",
          "text": [
            "(8588, 7) (8588, 7)\n",
            "Precio Actual: 35320.12\n",
            "Tendencia: baja\n",
            "Media Bitcoin: 33583.57\n",
            "Algoritmo de Decisión: Esperar\n"
          ]
        }
      ],
      "source": [
        "# Identificar duplicados en el índice y eliminarlos\n",
        "df_bitcoin_limpio = df_bitcoin_limpio[~df_bitcoin_limpio.index.duplicated(keep='first')]\n",
        "print(df_bitcoin.shape, df_bitcoin_limpio.shape)\n",
        "\n",
        "# En este punto, df_bitcoin_limpio contiene solo índices únicos\n",
        "\n",
        "# Mostrar el DataFrame resultante\n",
        "df_bitcoin_limpio.head()\n",
        "# Imprime las variables globales\n",
        "print(\"Precio Actual:\", precio_actual)\n",
        "print(\"Tendencia:\", tendencia)\n",
        "print(\"Media Bitcoin:\", media_bitcoin)\n",
        "print(\"Algoritmo de Decisión:\", algoritmo_decision)"
      ]
    },
    {
      "cell_type": "markdown",
      "metadata": {
        "id": "zVIaObUmksVs"
      },
      "source": [
        "primero se usa df_bitcoin_limpio['Close'].isnull() para identificar las filas que tienen valores nulos en la columna \"Close.\" Luego, se trata el valor nulo (en este caso, se reemplaza por la media de la columna) utilizando fillna."
      ]
    },
    {
      "cell_type": "code",
      "execution_count": 265,
      "metadata": {
        "colab": {
          "base_uri": "https://localhost:8080/"
        },
        "id": "0iQl5PcXf4RV",
        "outputId": "f44e5bee-055b-4c4f-939d-b69f2d540289"
      },
      "outputs": [
        {
          "output_type": "stream",
          "name": "stdout",
          "text": [
            "(8588, 7) (8588, 7)\n",
            "Precio Actual: 35320.12\n",
            "Tendencia: baja\n",
            "Media Bitcoin: 33583.57\n",
            "Algoritmo de Decisión: Esperar\n"
          ]
        }
      ],
      "source": [
        "# Buscar valores nulos en la columna \"Close\"\n",
        "valores_nulos = df_bitcoin_limpio[df_bitcoin_limpio['Close'].isnull()]\n",
        "\n",
        "# Tratar los valores nulos (por ejemplo, reemplazarlos por un valor específico, eliminar las filas, etc.)\n",
        "# En este ejemplo, reemplazamos los valores nulos por la media de la columna \"Close\"\n",
        "media_close = df_bitcoin_limpio['Close'].mean()\n",
        "df_bitcoin_limpio['Close'].fillna(media_close, inplace=True)\n",
        "print(df_bitcoin.shape, df_bitcoin_limpio.shape)\n",
        "# Mostrar el DataFrame resultante después de tratar los valores nulos\n",
        "df_bitcoin_limpio.head()\n",
        "# Imprime las variables globales\n",
        "print(\"Precio Actual:\", precio_actual)\n",
        "print(\"Tendencia:\", tendencia)\n",
        "print(\"Media Bitcoin:\", media_bitcoin)\n",
        "print(\"Algoritmo de Decisión:\", algoritmo_decision)\n"
      ]
    },
    {
      "cell_type": "markdown",
      "metadata": {
        "id": "BnW0ZYpjk6JX"
      },
      "source": [
        "En este ejemplo, primero se verifica qué registros tienen un volumen de transacción igual o menor a 0 utilizando df_bitcoin_limpio['Volume'] <= 0. Luego, se obtienen los índices de estos registros y se eliminan utilizando drop."
      ]
    },
    {
      "cell_type": "code",
      "execution_count": 266,
      "metadata": {
        "colab": {
          "base_uri": "https://localhost:8080/"
        },
        "id": "s27GSlB-gGHG",
        "outputId": "78cb6041-2565-4a11-f0b6-a927fd2d0537"
      },
      "outputs": [
        {
          "output_type": "stream",
          "name": "stdout",
          "text": [
            "(8588, 7) (4394, 7)\n",
            "Precio Actual: 35320.12\n",
            "Tendencia: baja\n",
            "Media Bitcoin: 33583.57\n",
            "Algoritmo de Decisión: Esperar\n"
          ]
        }
      ],
      "source": [
        "# Verificar registros con Volumen menor o igual a 0\n",
        "indices_a_eliminar = df_bitcoin_limpio[df_bitcoin_limpio['Volume'] <= 0].index\n",
        "\n",
        "# Eliminar los registros con Volumen menor o igual a 0\n",
        "df_bitcoin_limpio.drop(indices_a_eliminar, inplace=True)\n",
        "\n",
        "# Mostrar el DataFrame resultante después de eliminar los registros\n",
        "print(df_bitcoin.shape, df_bitcoin_limpio.shape)\n",
        "df_bitcoin_limpio.head()\n",
        "# Imprime las variables globales\n",
        "print(\"Precio Actual:\", precio_actual)\n",
        "print(\"Tendencia:\", tendencia)\n",
        "print(\"Media Bitcoin:\", media_bitcoin)\n",
        "print(\"Algoritmo de Decisión:\", algoritmo_decision)"
      ]
    },
    {
      "cell_type": "markdown",
      "metadata": {
        "id": "Dw4hihQ8g-0y"
      },
      "source": [
        "En este código, primero se crea un gráfico de caja para visualizar los outliers en la columna \"Close.\" Luego, se utiliza el rango intercuartílico (IQR) para definir un umbral que determina los valores atípicos. Los registros que caen fuera de este umbral se consideran outliers y se eliminan del DataFrame"
      ]
    },
    {
      "cell_type": "code",
      "execution_count": 267,
      "metadata": {
        "colab": {
          "base_uri": "https://localhost:8080/",
          "height": 1000
        },
        "id": "rurE3ihkgruu",
        "outputId": "096af6ac-0e8f-4032-8ea2-bd1b54f0bb26"
      },
      "outputs": [
        {
          "output_type": "display_data",
          "data": {
            "text/plain": [
              "<Figure size 800x600 with 1 Axes>"
            ],
            "image/png": "[encoded data removed]"
          },
          "metadata": {}
        },
        {
          "output_type": "stream",
          "name": "stdout",
          "text": [
            "Precio Actual: 35320.12\n",
            "Tendencia: baja\n",
            "Media Bitcoin: 33583.57\n",
            "Algoritmo de Decisión: Esperar\n"
          ]
        },
        {
          "output_type": "display_data",
          "data": {
            "text/plain": [
              "<Figure size 640x480 with 1 Axes>"
            ],
            "image/png": "[encoded data removed]"
          },
          "metadata": {}
        }
      ],
      "source": [
        "# Crear un gráfico de caja (boxplot) para visualizar los outliers\n",
        "import matplotlib.pyplot as plt\n",
        "plt.figure(figsize=(8, 6))\n",
        "plt.boxplot(df_bitcoin_limpio['Close'], vert=False)\n",
        "plt.title(\"Gráfico de Caja para Identificar Outliers\")\n",
        "plt.xlabel(\"Precio de Cierre (Close)\")\n",
        "plt.show()\n",
        "\n",
        "# Identificar los valores atípicos (outliers) utilizando un criterio, por ejemplo, el rango intercuartílico (IQR)\n",
        "Q1 = df_bitcoin_limpio['Close'].quantile(0.25)\n",
        "Q3 = df_bitcoin_limpio['Close'].quantile(0.75)\n",
        "\n",
        "\n",
        "# Filtrar los registros que no son outliers\n",
        "df_bitcoin.boxplot(['Close'])\n",
        "df_bitcoin_limpio = df_bitcoin_limpio[(df_bitcoin_limpio['Close'] >= Q1) & (df_bitcoin_limpio['Close'] <= Q3)]\n",
        "\n",
        "\n",
        "# Mostrar el DataFrame resultante después de eliminar los outliers\n",
        "df_bitcoin_limpio.head()\n",
        "# Imprime las variables globales\n",
        "print(\"Precio Actual:\", precio_actual)\n",
        "print(\"Tendencia:\", tendencia)\n",
        "print(\"Media Bitcoin:\", media_bitcoin)\n",
        "print(\"Algoritmo de Decisión:\", algoritmo_decision)"
      ]
    },
    {
      "cell_type": "markdown",
      "metadata": {
        "id": "IEsTfg_KhNWU"
      },
      "source": [
        "En este código, primero se calculan los valores de Q1, Q3 y el IQR. Luego, se definen los límites del intervalo que deseas mantener, que son Q1 - 1.5 * IQR para el límite inferior y Q3 + 1.5 * IQR para el límite superior. Finalmente, se filtran los registros que caen dentro de este intervalo y se almacenan en un nuevo DataFrame llamado df_filtrado. Este DataFrame contendrá solo los registros cuyos precios estén entre Q1 y Q3, excluyendo los valores atípicos."
      ]
    },
    {
      "cell_type": "code",
      "execution_count": 268,
      "metadata": {
        "colab": {
          "base_uri": "https://localhost:8080/",
          "height": 502
        },
        "id": "R_7z87WShVA_",
        "outputId": "4d9fceb8-e084-4c06-8758-6eae9a334d48"
      },
      "outputs": [
        {
          "output_type": "stream",
          "name": "stdout",
          "text": [
            "Precio Actual: 35320.12\n",
            "Tendencia: baja\n",
            "Media Bitcoin: 33583.57\n",
            "Algoritmo de Decisión: Esperar\n"
          ]
        },
        {
          "output_type": "display_data",
          "data": {
            "text/plain": [
              "<Figure size 640x480 with 1 Axes>"
            ],
            "image/png": "[encoded data removed]"
          },
          "metadata": {}
        }
      ],
      "source": [
        "# Calcular el primer cuartil (Q1) y el tercer cuartil (Q3)\n",
        "Q1 = df_bitcoin_limpio['Close'].quantile(0.25)\n",
        "Q3 = df_bitcoin_limpio['Close'].quantile(0.75)\n",
        "\n",
        "\n",
        "# Filtrar los registros que se encuentran dentro del intervalo\n",
        "df_bitcoin_limpio = df_bitcoin_limpio[(df_bitcoin_limpio['Close'] >= Q1) & (df_bitcoin_limpio['Close'] <= Q3)]\n",
        "\n",
        "# Mostrar el DataFrame resultante con los registros dentro del intervalo\n",
        "df_bitcoin_limpio.boxplot(['Close'])\n",
        "df_bitcoin_limpio.head()\n",
        "# Imprime las variables globales\n",
        "print(\"Precio Actual:\", precio_actual)\n",
        "print(\"Tendencia:\", tendencia)\n",
        "print(\"Media Bitcoin:\", media_bitcoin)\n",
        "print(\"Algoritmo de Decisión:\", algoritmo_decision)"
      ]
    },
    {
      "cell_type": "markdown",
      "metadata": {
        "id": "jb39ybrUxYVP"
      },
      "source": [
        "Con estos pasos, calculamos el precio promedio de los registros que cumplen con los criterios establecidos y almacenamos el resultado en la variable media_bitcoin. Luego, mostramos la media calculada."
      ]
    },
    {
      "cell_type": "code",
      "execution_count": 269,
      "metadata": {
        "colab": {
          "base_uri": "https://localhost:8080/"
        },
        "id": "xH-sBuyThZ0a",
        "outputId": "537f8b8a-a2b6-4427-fa9f-81f1e4b88d32"
      },
      "outputs": [
        {
          "output_type": "stream",
          "name": "stdout",
          "text": [
            "Precio Promedio del Bitcoin (Close): 34533.37\n",
            "Precio Actual: 35320.12\n",
            "Tendencia: baja\n",
            "Media Bitcoin: 34533.37\n",
            "Algoritmo de Decisión: Esperar\n"
          ]
        }
      ],
      "source": [
        "# Calcular el precio promedio (Close) de la selección\n",
        "media_bitcoin = df_bitcoin_limpio['Close'].mean().round(2)\n",
        "\n",
        "# Mostrar la media del precio de Bitcoin\n",
        "print(\"Precio Promedio del Bitcoin (Close):\", media_bitcoin)\n",
        "\n",
        "# Imprime las variables globales\n",
        "print(\"Precio Actual:\", precio_actual)\n",
        "print(\"Tendencia:\", tendencia)\n",
        "print(\"Media Bitcoin:\", media_bitcoin)\n",
        "print(\"Algoritmo de Decisión:\", algoritmo_decision)"
      ]
    },
    {
      "cell_type": "code",
      "execution_count": 270,
      "metadata": {
        "colab": {
          "base_uri": "https://localhost:8080/"
        },
        "id": "rPA475mGXeE-",
        "outputId": "834981e8-42f3-49a5-b995-b25018609a2f"
      },
      "outputs": [
        {
          "output_type": "stream",
          "name": "stdout",
          "text": [
            "Precio Actual: 35320.12\n",
            "Tendencia: baja\n",
            "Media Bitcoin: 34533.37\n",
            "Algoritmo de Decisión: Esperar\n"
          ]
        }
      ],
      "source": [
        "def limpieza_datos():\n",
        "\n",
        "\n",
        "  global df_bitcoin, precio_actual, tendencia, media_bitcoin,  algoritmo_decision\n",
        "\n",
        "  #Creamos la copia del dataframen original\n",
        "  df_bitcoin_limpio = df_bitcoin.copy()\n",
        "\n",
        "  # Eliminamos los indicex duplicados\n",
        "  df_bitcoin_limpio = df_bitcoin_limpio[~df_bitcoin_limpio.index.duplicated(keep='first')]\n",
        "\n",
        " # Manejo de valores nulos en la columna 'Close\n",
        "\n",
        "  # Borrar las filas con valores nulos en la columna 'Close'\n",
        "  df_bitcoin_limpio = df_bitcoin_limpio.dropna(subset=['Close'])\n",
        "\n",
        "# Validación y tratamiento de valores cero en la columna 'Volumen':\n",
        "\n",
        "  # Eliminación de filas con Volumen <= 0\n",
        "  df_bitcoin_limpio = df_bitcoin_limpio[df_bitcoin_limpio['Volume'] > 0]\n",
        "\n",
        " # Calcular el primer cuartil (Q1) y el tercer cuartil (Q3) de la columna \"Cerrar\".\n",
        "  Q1 = df_bitcoin_limpio['Close'].quantile(0.25)\n",
        "  Q3 = df_bitcoin_limpio['Close'].quantile(0.75)\n",
        "\n",
        "# Filtrar los registros donde el 'Cierre' está entre Q1 y Q3\n",
        "  df_bitcoin_limpio = df_bitcoin_limpio[(df_bitcoin_limpio['Close'] >= Q1) & (df_bitcoin_limpio['Close'] <= Q3)]\n",
        "\n",
        "# Calcular el precio medio del precio 'Close':\n",
        "\n",
        "  media_bitcoin = df_bitcoin_limpio['Close'].mean()\n",
        "\n",
        "  return media_bitcoin\n",
        "\n",
        "# Imprime las variables globales\n",
        "print(\"Precio Actual:\", precio_actual)\n",
        "print(\"Tendencia:\", tendencia)\n",
        "print(\"Media Bitcoin:\", media_bitcoin)\n",
        "print(\"Algoritmo de Decisión:\", algoritmo_decision)"
      ]
    },
    {
      "cell_type": "markdown",
      "metadata": {
        "id": "l4pm6fu4zC8j"
      },
      "source": [
        "#**5. Tomar decisiones**"
      ]
    },
    {
      "cell_type": "markdown",
      "metadata": {
        "id": "oRdDRL2Dx63A"
      },
      "source": [
        "En esta función, primero se definen las variables globales que se utilizarán (precio_actual, tendencia, media_bitcoin, algoritmo_decision). Luego, se aplican las condiciones especificadas en los criterios de decisión y se asigna el resultado a la variable algoritmo_decision. Finalmente, se muestra la decisión tomada.\n",
        "\n",
        "Asegúrate de llamar a esta función en tu código principal para tomar decisiones basadas en los valores actuales y la tendencia."
      ]
    },
    {
      "cell_type": "code",
      "execution_count": 271,
      "metadata": {
        "colab": {
          "base_uri": "https://localhost:8080/"
        },
        "id": "Ncnvz32Wxv2t",
        "outputId": "a310e05a-7724-4507-e1f9-2138b3a48535"
      },
      "outputs": [
        {
          "output_type": "stream",
          "name": "stdout",
          "text": [
            "Decisión Tomada: Vender\n",
            "Precio Actual: 35320.12\n",
            "Tendencia: baja\n",
            "Media Bitcoin: 34533.37\n",
            "Algoritmo de Decisión: Vender\n"
          ]
        }
      ],
      "source": [
        "def tomar_decisiones():\n",
        "    global precio_actual, tendencia, media_bitcoin, algoritmo_decision,marker, marker_color\n",
        "\n",
        "    # Definir un algoritmo de decisión\n",
        "    if precio_actual > media_bitcoin and tendencia =='baja':\n",
        "        algoritmo_decision = \"Vender\"\n",
        "    elif precio_actual < media_bitcoin and tendencia =='alta':\n",
        "         algoritmo_decision = \"Comprar\"\n",
        "    else:\n",
        "         algoritmo_decision='Esperar'\n",
        "\n",
        "# Llama a la función para tomar decisiones\n",
        "tomar_decisiones()\n",
        "\n",
        "# Muestra la decisión tomada\n",
        "print(\"Decisión Tomada:\", algoritmo_decision)\n",
        "\n",
        "# Imprime las variables globales\n",
        "print(\"Precio Actual:\", precio_actual)\n",
        "print(\"Tendencia:\", tendencia)\n",
        "print(\"Media Bitcoin:\", media_bitcoin)\n",
        "print(\"Algoritmo de Decisión:\", algoritmo_decision)\n"
      ]
    },
    {
      "cell_type": "markdown",
      "metadata": {
        "id": "ujjX1AHex6gh"
      },
      "source": [
        "En este código, primero se agrega la columna \"Promedio\" al DataFrame original df_bitcoin. Luego, en la función visualizacion(), se configura el tamaño del gráfico, se agrega un título, se dibujan las líneas del precio de cierre y el promedio, se muestra la decisión del algoritmo en el gráfico y se muestra el gráfico en pantalla."
      ]
    },
    {
      "cell_type": "code",
      "execution_count": 272,
      "metadata": {
        "colab": {
          "base_uri": "https://localhost:8080/",
          "height": 567
        },
        "id": "VZH1fjlmzbpS",
        "outputId": "4b659f38-f5f1-410f-ca01-191260a5e50b"
      },
      "outputs": [
        {
          "output_type": "display_data",
          "data": {
            "text/plain": [
              "<Figure size 1600x500 with 1 Axes>"
            ],
            "image/png": "[encoded data removed]"
          },
          "metadata": {}
        },
        {
          "output_type": "stream",
          "name": "stdout",
          "text": [
            "Precio Actual: 35320.12\n",
            "Tendencia: baja\n",
            "Media Bitcoin: 34533.37\n",
            "Algoritmo de Decisión: Vender\n"
          ]
        }
      ],
      "source": [
        "def visualizacion():\n",
        "    global df_bitcoin, precio_actual, tendencia, media_bitcoin, algoritmo_decision\n",
        "\n",
        "    if algoritmo_decision == 'Vender':\n",
        "      color_decision = '#229954'\n",
        "    elif algoritmo_decision =='Comprar':\n",
        "      color_decision = '#C0392B'\n",
        "    else:\n",
        "     color_decision = '#060201'\n",
        "\n",
        "    # Agregar la columna \"Promedio\" al DataFrame original\n",
        "    df_bitcoin['Promedio'] = media_bitcoin\n",
        "\n",
        "    # Configurar el tamaño del gráfico\n",
        "    plt.figure(figsize=(16, 5), facecolor='#D5D8DC')\n",
        "    plt.tick_params(axis='both', color='#D5F5E3')\n",
        "\n",
        "    # Agregar un título al gráfico\n",
        "    plt.title(\"Gráfico de Precio de Bitcoin con Decisión\", fontsize = 20, weight = 'bold', color='#273746')\n",
        "\n",
        "    # Dibujar una línea con los datos del índice y la columna \"Close\"\n",
        "    plt.plot(df_bitcoin.index, df_bitcoin['Close'], label='Precio de Cierre', linestyle='-', color='Blue')\n",
        "\n",
        "    # Dibujar una línea con los datos del índice y la columna \"Promedio\"\n",
        "    plt.plot(df_bitcoin.index, df_bitcoin['Promedio'], label='Promedio', color='red', linestyle='--')\n",
        "\n",
        "      #Cambiando el color de fondo del grafico\n",
        "    ejes = plt.gca()\n",
        "    ejes.set_facecolor('#FFFFFF')\n",
        "    #FFFFFF\n",
        "    #85929E\n",
        "\n",
        "\n",
        "    ejes.axhline(max(df_bitcoin['Close']), color = 'g', linestyle='--')\n",
        "    ejes.axhline(min(df_bitcoin['Close']), color = 'g', linestyle='--')\n",
        "\n",
        "    x1 = [df_bitcoin['Close'].idxmax()]\n",
        "    y1 = max(df_bitcoin['Close'])\n",
        "\n",
        "    x2 = [df_bitcoin['Close'].idxmin()]\n",
        "    y2 = min(df_bitcoin['Close'])\n",
        "\n",
        "    # Mostrar la decisión del algoritmo en el gráfico\n",
        "    plt.annotate(f'Decisión: {algoritmo_decision}', xy=(df_bitcoin.index[-1], df_bitcoin['Close'].iloc[-1]), xytext=(df_bitcoin.index[-1], df_bitcoin['Close'].iloc[-1] * 0.9),\n",
        "                 arrowprops=dict(facecolor='red', shrink=0.4), fontsize=12, color= color_decision)\n",
        "    plt.annotate('Valor mas alto al cierre', xy=(x1,y1), fontsize = 12, color = 'k')\n",
        "    plt.annotate('Valor mas bajo al  cierre', xy=(x2,y2), fontsize = 12, color = 'k')\n",
        "\n",
        "    # Resaltar el último precio de cierre con un marcador circular\n",
        "    ultimo_valor = df_bitcoin['Close'].iloc[-1]\n",
        "    plt.scatter(df_bitcoin.index[-1], ultimo_valor, color='g', s=100, zorder=2)\n",
        "    plt.text(df_bitcoin.index[-1], ultimo_valor, f'{ultimo_valor:.2f}', color='black', fontsize=12, ha='left', va='center')\n",
        "\n",
        "\n",
        "    # Configurar etiquetas en el eje x\n",
        "    plt.xticks(rotation=360)\n",
        "\n",
        "    # Agregar leyenda al gráfico\n",
        "    plt.legend()\n",
        "     #Color de texto de los valores(Datos)\n",
        "    ejes.tick_params(axis='x', labelcolor='#065758')\n",
        "    ejes.tick_params(axis='y', labelcolor='#065758')\n",
        "\n",
        "    # Mostrar el gráfico\n",
        "    # Muestra en pantalla el gráfico configurado\n",
        "    plt.xlabel('Fecha del intervalo', color='#065758', fontweight='bold')\n",
        "    plt.ylabel('Intervalo de precios', color='#065758', fontweight='bold')\n",
        "    plt.legend(facecolor='#065758', labelcolor='#81d2e4')\n",
        "    plt.grid(True)  # Mostrar cuadrícula\n",
        "    plt.show()\n",
        "\n",
        "# Llamar a la función para mostrar el gráfico\n",
        "visualizacion()\n",
        "\n",
        "# Imprime las variables globales\n",
        "print(\"Precio Actual:\", precio_actual)\n",
        "print(\"Tendencia:\", tendencia)\n",
        "print(\"Media Bitcoin:\", media_bitcoin)\n",
        "print(\"Algoritmo de Decisión:\", algoritmo_decision)\n"
      ]
    },
    {
      "cell_type": "markdown",
      "metadata": {
        "id": "FUHTQkrM01YU"
      },
      "source": [
        "#**6.Automatizacion**"
      ]
    },
    {
      "cell_type": "markdown",
      "metadata": {
        "id": "7DtnXjHk1Clm"
      },
      "source": [
        "El método clear_output y la biblioteca time son útiles para limpiar la salida y controlar la frecuencia de actualización de los gráficos"
      ]
    },
    {
      "cell_type": "code",
      "execution_count": 273,
      "metadata": {
        "id": "bcZZO6T7z0SD"
      },
      "outputs": [],
      "source": [
        "from IPython.display import clear_output\n",
        "import time"
      ]
    },
    {
      "cell_type": "code",
      "execution_count": 274,
      "metadata": {
        "colab": {
          "base_uri": "https://localhost:8080/",
          "height": 783
        },
        "id": "23nCtwm50yce",
        "outputId": "62b3098a-f50c-488b-bbff-9bd715877031"
      },
      "outputs": [
        {
          "output_type": "stream",
          "name": "stdout",
          "text": [
            "\r[*********************100%%**********************]  1 of 1 completed\n",
            "Precio Actual: 35320.12\n",
            "Tendencia: baja\n",
            "Media Bitcoin: 34174.783943265866\n",
            "Algoritmo de Decisión: Vender\n"
          ]
        },
        {
          "output_type": "display_data",
          "data": {
            "text/plain": [
              "<Figure size 1600x500 with 1 Axes>"
            ],
            "image/png": "[encoded data removed]"
          },
          "metadata": {}
        },
        {
          "output_type": "error",
          "ename": "KeyboardInterrupt",
          "evalue": "ignored",
          "traceback": [
            "\u001b[0;31m---------------------------------------------------------------------------\u001b[0m",
            "\u001b[0;31mKeyboardInterrupt\u001b[0m                         Traceback (most recent call last)",
            "\u001b[0;32m<ipython-input-274-a670751cccfd>\u001b[0m in \u001b[0;36m<cell line: 1>\u001b[0;34m()\u001b[0m\n\u001b[1;32m     11\u001b[0m   \u001b[0mprint\u001b[0m\u001b[0;34m(\u001b[0m\u001b[0;34m\"Algoritmo de Decisión:\"\u001b[0m\u001b[0;34m,\u001b[0m \u001b[0malgoritmo_decision\u001b[0m\u001b[0;34m)\u001b[0m\u001b[0;34m\u001b[0m\u001b[0;34m\u001b[0m\u001b[0m\n\u001b[1;32m     12\u001b[0m   \u001b[0mvisualizacion\u001b[0m\u001b[0;34m(\u001b[0m\u001b[0;34m)\u001b[0m\u001b[0;34m\u001b[0m\u001b[0;34m\u001b[0m\u001b[0m\n\u001b[0;32m---> 13\u001b[0;31m   \u001b[0mtime\u001b[0m\u001b[0;34m.\u001b[0m\u001b[0msleep\u001b[0m\u001b[0;34m(\u001b[0m\u001b[0;36m300\u001b[0m\u001b[0;34m)\u001b[0m\u001b[0;34m\u001b[0m\u001b[0;34m\u001b[0m\u001b[0m\n\u001b[0m",
            "\u001b[0;31mKeyboardInterrupt\u001b[0m: "
          ]
        }
      ],
      "source": [
        "while(True):\n",
        "  clear_output(wait=True)\n",
        "  importar_base_bitcoin()\n",
        "  extraer_tendencias()\n",
        "  limpieza_datos()\n",
        "  tomar_decisiones()\n",
        "  # Imprime las variables globales\n",
        "  print(\"Precio Actual:\", precio_actual)\n",
        "  print(\"Tendencia:\", tendencia)\n",
        "  print(\"Media Bitcoin:\", media_bitcoin)\n",
        "  print(\"Algoritmo de Decisión:\", algoritmo_decision)\n",
        "  visualizacion()\n",
        "  time.sleep(300)"
      ]
    }
  ],
  "metadata": {
    "colab": {
      "provenance": [],
      "include_colab_link": true
    },
    "kernelspec": {
      "display_name": "Python 3",
      "name": "python3"
    },
    "language_info": {
      "name": "python"
    }
  },
  "nbformat": 4,
  "nbformat_minor": 0
}