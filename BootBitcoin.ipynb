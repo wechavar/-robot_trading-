{
  "cells": [
    {
      "cell_type": "markdown",
      "metadata": {
        "id": "view-in-github",
        "colab_type": "text"
      },
      "source": [
        "<a href=\"https://colab.research.google.com/github/wilferalexander/-robot_trading-/blob/main/BootBitcoin.ipynb\" target=\"_parent\"><img src=\"https://colab.research.google.com/assets/colab-badge.svg\" alt=\"Open In Colab\"/></a>"
      ]
    },
    {
      "cell_type": "markdown",
      "metadata": {
        "id": "iTzACV8H7ivI"
      },
      "source": [
        "#BootBitcoin\n"
      ]
    },
    {
      "cell_type": "markdown",
      "metadata": {
        "id": "TlwOtNp57ucP"
      },
      "source": [
        "#**1.Configuración del ambiente**\n",
        "\n",
        "global df_bitcoin, precio_actual, tendencia, media_bitcoin,  algoritmo_decision\n",
        "\n",
        "También necesitarás instalar algunas librerías de Python que son esenciales para este proyecto, como Pandas, Numpy, Matplotlib, etc.\n",
        "\n",
        "El resultado debería ser las bibliotecas y sus versiones que tenemos instaladas en nuestro Ambiente, si tienes algún error revisa tu configuración, talvez falte instalar alguna biblioteca."
      ]
    },
    {
      "cell_type": "code",
      "execution_count": 250,
      "metadata": {
        "colab": {
          "base_uri": "https://localhost:8080/"
        },
        "id": "CcA-aELv7ZHY",
        "outputId": "1e98de4f-c9ab-42e9-bf21-e2af65b37fed"
      },
      "outputs": [
        {
          "output_type": "stream",
          "name": "stdout",
          "text": [
            "Python 3.10.12\n",
            "Name: pandas\n",
            "Version: 1.5.3\n",
            "Name: numpy\n",
            "Version: 1.23.5\n",
            "Name: numpy\n",
            "Version: 1.23.5\n"
          ]
        }
      ],
      "source": [
        "# Validamos que las liberias que necesitamos esten disponibles y no tengamos errores en nuestro ambiente\n",
        "!python -V\n",
        "!pip show Pandas | grep 'Name\\|Version'\n",
        "!pip show Numpy | grep 'Name\\|Version'\n",
        "!pip show Numpy | grep 'Name\\|Version'"
      ]
    },
    {
      "cell_type": "code",
      "execution_count": 251,
      "metadata": {
        "id": "c5MbIo4L9Xpw"
      },
      "outputs": [],
      "source": [
        "# Definir variables globales\n",
        "global df_bitcoin, precio_actual, tendencia, media_bitcoin, algoritmo_decision\n",
        "df_bitcoin = None\n",
        "precio_actual = 0\n",
        "tendencia = \"\"\n",
        "media_bitcoin = 0.0\n",
        "algoritmo_decision = \"\""
      ]
    },
    {
      "cell_type": "markdown",
      "metadata": {
        "id": "Vg6hUZT_8Z3f"
      },
      "source": [
        "#**2.Obtención de datos**\n",
        "\n",
        "Crea una funcion importar_base_bitcoin(), dentro de ella, define nuevamente las variables globales(ver Paso1) y escribe tu código:\n",
        "\n",
        "Utiliza la biblioteca yfinance de Python para extraer el histórico de precios del Bitcoin en dólares BTC-USD, deberás extraer el histórico de los últimos 7 días en intervalos de 5 minutos, este histórico deberás guardarlo en el dataframe df_bitcoin.\n",
        "Crea una funcion extraer_tendencias(), dentro de ella, define nuevamente las variables globales(ver Paso1) y escribe tu código:\n",
        "\n",
        "Utilizando la biblioteca BeautifulSoup deberás realizar Web Scraping de la página https://coinmarketcap.com/ para extraer el precio actual del Bitcoin BTC en dólares USD y la variación de su precio en la última hora 1h % . El precio deberás convertirlo a float y guardarlo en la variable llamada precio_actual. Ahora, en la variable tendencia guarda el valor de 'baja'si la variación del precio es negativa, sino, guarda el valor de 'alta'.\n",
        "Apoyo\n",
        "Puedes encontrar más información de como instalar y usar la biblioteca yfinance en su página oficial: yfinance.\n",
        "Además de los recursos mencionados en el card ‘Para saber más’ del Trello, puedes encontrar información complementar de Web Scraping en el siguiente enlace: Web Scraping con Python: Cómo Extraer Datos de Sitios Web.\n",
        "\n"
      ]
    },
    {
      "cell_type": "markdown",
      "metadata": {
        "id": "ZAmpVl0F7hEs"
      },
      "source": [
        "Para extraer el histórico de precios del Bitcoin en dólares (BTC-USD) en intervalos de 5 minutos durante los últimos 7 días utilizando la biblioteca yfinance, puedes hacer lo siguiente:\n",
        "\n",
        "Asegúrate de que tienes yfinance instalado en tu entorno de Python. Puedes instalarlo usando pip si aún no lo tienes"
      ]
    },
    {
      "cell_type": "code",
      "execution_count": 252,
      "metadata": {
        "colab": {
          "base_uri": "https://localhost:8080/"
        },
        "id": "933GVYFt8D9n",
        "outputId": "9915da1f-c9b2-4fa6-e4fd-ebf5782401a4"
      },
      "outputs": [
        {
          "output_type": "stream",
          "name": "stdout",
          "text": [
            "Requirement already satisfied: yfinance in /usr/local/lib/python3.10/dist-packages (0.2.31)\n",
            "Requirement already satisfied: pandas>=1.3.0 in /usr/local/lib/python3.10/dist-packages (from yfinance) (1.5.3)\n",
            "Requirement already satisfied: numpy>=1.16.5 in /usr/local/lib/python3.10/dist-packages (from yfinance) (1.23.5)\n",
            "Requirement already satisfied: requests>=2.31 in /usr/local/lib/python3.10/dist-packages (from yfinance) (2.31.0)\n",
            "Requirement already satisfied: multitasking>=0.0.7 in /usr/local/lib/python3.10/dist-packages (from yfinance) (0.0.11)\n",
            "Requirement already satisfied: lxml>=4.9.1 in /usr/local/lib/python3.10/dist-packages (from yfinance) (4.9.3)\n",
            "Requirement already satisfied: appdirs>=1.4.4 in /usr/local/lib/python3.10/dist-packages (from yfinance) (1.4.4)\n",
            "Requirement already satisfied: pytz>=2022.5 in /usr/local/lib/python3.10/dist-packages (from yfinance) (2023.3.post1)\n",
            "Requirement already satisfied: frozendict>=2.3.4 in /usr/local/lib/python3.10/dist-packages (from yfinance) (2.3.8)\n",
            "Requirement already satisfied: peewee>=3.16.2 in /usr/local/lib/python3.10/dist-packages (from yfinance) (3.17.0)\n",
            "Requirement already satisfied: beautifulsoup4>=4.11.1 in /usr/local/lib/python3.10/dist-packages (from yfinance) (4.11.2)\n",
            "Requirement already satisfied: html5lib>=1.1 in /usr/local/lib/python3.10/dist-packages (from yfinance) (1.1)\n",
            "Requirement already satisfied: soupsieve>1.2 in /usr/local/lib/python3.10/dist-packages (from beautifulsoup4>=4.11.1->yfinance) (2.5)\n",
            "Requirement already satisfied: six>=1.9 in /usr/local/lib/python3.10/dist-packages (from html5lib>=1.1->yfinance) (1.16.0)\n",
            "Requirement already satisfied: webencodings in /usr/local/lib/python3.10/dist-packages (from html5lib>=1.1->yfinance) (0.5.1)\n",
            "Requirement already satisfied: python-dateutil>=2.8.1 in /usr/local/lib/python3.10/dist-packages (from pandas>=1.3.0->yfinance) (2.8.2)\n",
            "Requirement already satisfied: charset-normalizer<4,>=2 in /usr/local/lib/python3.10/dist-packages (from requests>=2.31->yfinance) (3.3.1)\n",
            "Requirement already satisfied: idna<4,>=2.5 in /usr/local/lib/python3.10/dist-packages (from requests>=2.31->yfinance) (3.4)\n",
            "Requirement already satisfied: urllib3<3,>=1.21.1 in /usr/local/lib/python3.10/dist-packages (from requests>=2.31->yfinance) (2.0.7)\n",
            "Requirement already satisfied: certifi>=2017.4.17 in /usr/local/lib/python3.10/dist-packages (from requests>=2.31->yfinance) (2023.7.22)\n"
          ]
        }
      ],
      "source": [
        "pip install yfinance"
      ]
    },
    {
      "cell_type": "markdown",
      "metadata": {
        "id": "MrHbba0x-ndO"
      },
      "source": [
        "Ahora vamos  guardar la informacion en el historico en el dataframe df_bitcoin\n"
      ]
    },
    {
      "cell_type": "code",
      "execution_count": 253,
      "metadata": {
        "id": "RJfa8r9U-m1_"
      },
      "outputs": [],
      "source": [
        "#Importamos las librerias\n",
        "import yfinance as yf\n",
        "import pandas as pd\n",
        "import matplotlib.pyplot as plt\n",
        "from datetime import datetime, timedelta\n",
        "import pytz"
      ]
    },
    {
      "cell_type": "markdown",
      "metadata": {
        "id": "Taud38jUiKzl"
      },
      "source": [
        "Este código creará un DataFrame llamado df_bitcoin con el histórico de precios del Bitcoin en intervalos de 5 minutos para los últimos 7 días.\n",
        "\n",
        "En este ejemplo, la función extraer_tendencias utiliza global para acceder y modificar las variables globales definidas al comienzo del script. La función extrae datos históricos, calcula el precio actual, la tendencia, la media del Bitcoin y el algoritmo de decisión, y los almacena en las variables globales. Luego, se imprimen las variables globales para verificar los resultados."
      ]
    },
    {
      "cell_type": "code",
      "execution_count": 255,
      "metadata": {
        "colab": {
          "base_uri": "https://localhost:8080/"
        },
        "id": "xzb5yVtG15ve",
        "outputId": "f6762b69-e775-4d80-e593-4a349b268cbf"
      },
      "outputs": [
        {
          "output_type": "stream",
          "name": "stdout",
          "text": [
            "Precio Actual: 34469.1640625\n",
            "Tendencia: Alcista\n",
            "Media Bitcoin: 33386.91180622587\n",
            "Algoritmo de Decisión: Esperar\n"
          ]
        }
      ],
      "source": [
        "def extraer_tendencias():\n",
        "    global df_bitcoin, precio_actual, tendencia, media_bitcoin, algoritmo_decision\n",
        "\n",
        "    # Crear un objeto de la clase Ticker para BTC-USD\n",
        "    bitcoin = yf.Ticker(\"BTC-USD\")\n",
        "\n",
        "    # Obtener el histórico de precios de los últimos 7 días en intervalos de 5 minutos\n",
        "    df_bitcoin = bitcoin.history(period=\"10d\", interval=\"5m\")\n",
        "\n",
        "    # Calcular el precio actual como el último precio en el DataFrame\n",
        "    precio_actual = df_bitcoin['Close'].iloc[-1]\n",
        "\n",
        "    # Calcular la media del precio de cierre\n",
        "    media_bitcoin = df_bitcoin['Close'].mean()\n",
        "\n",
        "    # Establecer una tendencia simple basada en la comparación de precios\n",
        "    if precio_actual >= media_bitcoin:\n",
        "        tendencia = \"Alcista\"\n",
        "    else:\n",
        "        tendencia = \"Bajista\"\n",
        "\n",
        "    # Definir un algoritmo de decisión\n",
        "    if precio_actual > media_bitcoin:\n",
        "        algoritmo_decision = \"Esperar\"\n",
        "    else:\n",
        "        algoritmo_decision = \"Comprar\"\n",
        "\n",
        "# Llama a la función para extraer las tendencias\n",
        "extraer_tendencias()\n",
        "\n",
        "# Imprime las variables globales\n",
        "print(\"Precio Actual:\", precio_actual)\n",
        "print(\"Tendencia:\", tendencia)\n",
        "print(\"Media Bitcoin:\", media_bitcoin)\n",
        "print(\"Algoritmo de Decisión:\", algoritmo_decision)\n"
      ]
    },
    {
      "cell_type": "code",
      "execution_count": 256,
      "metadata": {
        "colab": {
          "base_uri": "https://localhost:8080/",
          "height": 300
        },
        "id": "VhV2sRCTi2r9",
        "outputId": "9fa3b660-1060-4cd2-d977-3ef8615bd36a"
      },
      "outputs": [
        {
          "output_type": "execute_result",
          "data": {
            "text/plain": [
              "               Open          High           Low         Close        Volume  \\\n",
              "count   2590.000000   2590.000000   2590.000000   2590.000000  2.590000e+03   \n",
              "mean   33385.125864  33405.207522  33366.037590  33386.911806  2.976039e+07   \n",
              "std     1640.965406   1642.074631   1638.609125   1640.218055  1.083643e+08   \n",
              "min    29753.654297  29773.673828  29720.312500  29745.027344  0.000000e+00   \n",
              "25%    33721.166016  33748.127930  33683.844727  33711.666992  0.000000e+00   \n",
              "50%    34100.275391  34113.068359  34089.546875  34100.937500  7.168000e+03   \n",
              "75%    34388.984375  34412.514648  34359.112305  34381.212891  2.543027e+07   \n",
              "max    35116.218750  35150.433594  34950.511719  35044.105469  3.564442e+09   \n",
              "\n",
              "       Dividends  Stock Splits  \n",
              "count     2590.0        2590.0  \n",
              "mean         0.0           0.0  \n",
              "std          0.0           0.0  \n",
              "min          0.0           0.0  \n",
              "25%          0.0           0.0  \n",
              "50%          0.0           0.0  \n",
              "75%          0.0           0.0  \n",
              "max          0.0           0.0  "
            ],
            "text/html": [
              "\n",
              "  <div id=\"df-a3ce8111-3a67-49d9-a3e1-90119ebeee47\" class=\"colab-df-container\">\n",
              "    <div>\n",
              "<style scoped>\n",
              "    .dataframe tbody tr th:only-of-type {\n",
              "        vertical-align: middle;\n",
              "    }\n",
              "\n",
              "    .dataframe tbody tr th {\n",
              "        vertical-align: top;\n",
              "    }\n",
              "\n",
              "    .dataframe thead th {\n",
              "        text-align: right;\n",
              "    }\n",
              "</style>\n",
              "<table border=\"1\" class=\"dataframe\">\n",
              "  <thead>\n",
              "    <tr style=\"text-align: right;\">\n",
              "      <th></th>\n",
              "      <th>Open</th>\n",
              "      <th>High</th>\n",
              "      <th>Low</th>\n",
              "      <th>Close</th>\n",
              "      <th>Volume</th>\n",
              "      <th>Dividends</th>\n",
              "      <th>Stock Splits</th>\n",
              "    </tr>\n",
              "  </thead>\n",
              "  <tbody>\n",
              "    <tr>\n",
              "      <th>count</th>\n",
              "      <td>2590.000000</td>\n",
              "      <td>2590.000000</td>\n",
              "      <td>2590.000000</td>\n",
              "      <td>2590.000000</td>\n",
              "      <td>2.590000e+03</td>\n",
              "      <td>2590.0</td>\n",
              "      <td>2590.0</td>\n",
              "    </tr>\n",
              "    <tr>\n",
              "      <th>mean</th>\n",
              "      <td>33385.125864</td>\n",
              "      <td>33405.207522</td>\n",
              "      <td>33366.037590</td>\n",
              "      <td>33386.911806</td>\n",
              "      <td>2.976039e+07</td>\n",
              "      <td>0.0</td>\n",
              "      <td>0.0</td>\n",
              "    </tr>\n",
              "    <tr>\n",
              "      <th>std</th>\n",
              "      <td>1640.965406</td>\n",
              "      <td>1642.074631</td>\n",
              "      <td>1638.609125</td>\n",
              "      <td>1640.218055</td>\n",
              "      <td>1.083643e+08</td>\n",
              "      <td>0.0</td>\n",
              "      <td>0.0</td>\n",
              "    </tr>\n",
              "    <tr>\n",
              "      <th>min</th>\n",
              "      <td>29753.654297</td>\n",
              "      <td>29773.673828</td>\n",
              "      <td>29720.312500</td>\n",
              "      <td>29745.027344</td>\n",
              "      <td>0.000000e+00</td>\n",
              "      <td>0.0</td>\n",
              "      <td>0.0</td>\n",
              "    </tr>\n",
              "    <tr>\n",
              "      <th>25%</th>\n",
              "      <td>33721.166016</td>\n",
              "      <td>33748.127930</td>\n",
              "      <td>33683.844727</td>\n",
              "      <td>33711.666992</td>\n",
              "      <td>0.000000e+00</td>\n",
              "      <td>0.0</td>\n",
              "      <td>0.0</td>\n",
              "    </tr>\n",
              "    <tr>\n",
              "      <th>50%</th>\n",
              "      <td>34100.275391</td>\n",
              "      <td>34113.068359</td>\n",
              "      <td>34089.546875</td>\n",
              "      <td>34100.937500</td>\n",
              "      <td>7.168000e+03</td>\n",
              "      <td>0.0</td>\n",
              "      <td>0.0</td>\n",
              "    </tr>\n",
              "    <tr>\n",
              "      <th>75%</th>\n",
              "      <td>34388.984375</td>\n",
              "      <td>34412.514648</td>\n",
              "      <td>34359.112305</td>\n",
              "      <td>34381.212891</td>\n",
              "      <td>2.543027e+07</td>\n",
              "      <td>0.0</td>\n",
              "      <td>0.0</td>\n",
              "    </tr>\n",
              "    <tr>\n",
              "      <th>max</th>\n",
              "      <td>35116.218750</td>\n",
              "      <td>35150.433594</td>\n",
              "      <td>34950.511719</td>\n",
              "      <td>35044.105469</td>\n",
              "      <td>3.564442e+09</td>\n",
              "      <td>0.0</td>\n",
              "      <td>0.0</td>\n",
              "    </tr>\n",
              "  </tbody>\n",
              "</table>\n",
              "</div>\n",
              "    <div class=\"colab-df-buttons\">\n",
              "\n",
              "  <div class=\"colab-df-container\">\n",
              "    <button class=\"colab-df-convert\" onclick=\"convertToInteractive('df-a3ce8111-3a67-49d9-a3e1-90119ebeee47')\"\n",
              "            title=\"Convert this dataframe to an interactive table.\"\n",
              "            style=\"display:none;\">\n",
              "\n",
              "  <svg xmlns=\"http://www.w3.org/2000/svg\" height=\"24px\" viewBox=\"0 -960 960 960\">\n",
              "    <path d=\"M120-120v-720h720v720H120Zm60-500h600v-160H180v160Zm220 220h160v-160H400v160Zm0 220h160v-160H400v160ZM180-400h160v-160H180v160Zm440 0h160v-160H620v160ZM180-180h160v-160H180v160Zm440 0h160v-160H620v160Z\"/>\n",
              "  </svg>\n",
              "    </button>\n",
              "\n",
              "  <style>\n",
              "    .colab-df-container {\n",
              "      display:flex;\n",
              "      gap: 12px;\n",
              "    }\n",
              "\n",
              "    .colab-df-convert {\n",
              "      background-color: #E8F0FE;\n",
              "      border: none;\n",
              "      border-radius: 50%;\n",
              "      cursor: pointer;\n",
              "      display: none;\n",
              "      fill: #1967D2;\n",
              "      height: 32px;\n",
              "      padding: 0 0 0 0;\n",
              "      width: 32px;\n",
              "    }\n",
              "\n",
              "    .colab-df-convert:hover {\n",
              "      background-color: #E2EBFA;\n",
              "      box-shadow: 0px 1px 2px rgba(60, 64, 67, 0.3), 0px 1px 3px 1px rgba(60, 64, 67, 0.15);\n",
              "      fill: #174EA6;\n",
              "    }\n",
              "\n",
              "    .colab-df-buttons div {\n",
              "      margin-bottom: 4px;\n",
              "    }\n",
              "\n",
              "    [theme=dark] .colab-df-convert {\n",
              "      background-color: #3B4455;\n",
              "      fill: #D2E3FC;\n",
              "    }\n",
              "\n",
              "    [theme=dark] .colab-df-convert:hover {\n",
              "      background-color: #434B5C;\n",
              "      box-shadow: 0px 1px 3px 1px rgba(0, 0, 0, 0.15);\n",
              "      filter: drop-shadow(0px 1px 2px rgba(0, 0, 0, 0.3));\n",
              "      fill: #FFFFFF;\n",
              "    }\n",
              "  </style>\n",
              "\n",
              "    <script>\n",
              "      const buttonEl =\n",
              "        document.querySelector('#df-a3ce8111-3a67-49d9-a3e1-90119ebeee47 button.colab-df-convert');\n",
              "      buttonEl.style.display =\n",
              "        google.colab.kernel.accessAllowed ? 'block' : 'none';\n",
              "\n",
              "      async function convertToInteractive(key) {\n",
              "        const element = document.querySelector('#df-a3ce8111-3a67-49d9-a3e1-90119ebeee47');\n",
              "        const dataTable =\n",
              "          await google.colab.kernel.invokeFunction('convertToInteractive',\n",
              "                                                    [key], {});\n",
              "        if (!dataTable) return;\n",
              "\n",
              "        const docLinkHtml = 'Like what you see? Visit the ' +\n",
              "          '<a target=\"_blank\" href=https://colab.research.google.com/notebooks/data_table.ipynb>data table notebook</a>'\n",
              "          + ' to learn more about interactive tables.';\n",
              "        element.innerHTML = '';\n",
              "        dataTable['output_type'] = 'display_data';\n",
              "        await google.colab.output.renderOutput(dataTable, element);\n",
              "        const docLink = document.createElement('div');\n",
              "        docLink.innerHTML = docLinkHtml;\n",
              "        element.appendChild(docLink);\n",
              "      }\n",
              "    </script>\n",
              "  </div>\n",
              "\n",
              "\n",
              "<div id=\"df-d87a8a6a-eef1-4806-845b-b1f86ec25f53\">\n",
              "  <button class=\"colab-df-quickchart\" onclick=\"quickchart('df-d87a8a6a-eef1-4806-845b-b1f86ec25f53')\"\n",
              "            title=\"Suggest charts.\"\n",
              "            style=\"display:none;\">\n",
              "\n",
              "<svg xmlns=\"http://www.w3.org/2000/svg\" height=\"24px\"viewBox=\"0 0 24 24\"\n",
              "     width=\"24px\">\n",
              "    <g>\n",
              "        <path d=\"M19 3H5c-1.1 0-2 .9-2 2v14c0 1.1.9 2 2 2h14c1.1 0 2-.9 2-2V5c0-1.1-.9-2-2-2zM9 17H7v-7h2v7zm4 0h-2V7h2v10zm4 0h-2v-4h2v4z\"/>\n",
              "    </g>\n",
              "</svg>\n",
              "  </button>\n",
              "\n",
              "<style>\n",
              "  .colab-df-quickchart {\n",
              "      --bg-color: #E8F0FE;\n",
              "      --fill-color: #1967D2;\n",
              "      --hover-bg-color: #E2EBFA;\n",
              "      --hover-fill-color: #174EA6;\n",
              "      --disabled-fill-color: #AAA;\n",
              "      --disabled-bg-color: #DDD;\n",
              "  }\n",
              "\n",
              "  [theme=dark] .colab-df-quickchart {\n",
              "      --bg-color: #3B4455;\n",
              "      --fill-color: #D2E3FC;\n",
              "      --hover-bg-color: #434B5C;\n",
              "      --hover-fill-color: #FFFFFF;\n",
              "      --disabled-bg-color: #3B4455;\n",
              "      --disabled-fill-color: #666;\n",
              "  }\n",
              "\n",
              "  .colab-df-quickchart {\n",
              "    background-color: var(--bg-color);\n",
              "    border: none;\n",
              "    border-radius: 50%;\n",
              "    cursor: pointer;\n",
              "    display: none;\n",
              "    fill: var(--fill-color);\n",
              "    height: 32px;\n",
              "    padding: 0;\n",
              "    width: 32px;\n",
              "  }\n",
              "\n",
              "  .colab-df-quickchart:hover {\n",
              "    background-color: var(--hover-bg-color);\n",
              "    box-shadow: 0 1px 2px rgba(60, 64, 67, 0.3), 0 1px 3px 1px rgba(60, 64, 67, 0.15);\n",
              "    fill: var(--button-hover-fill-color);\n",
              "  }\n",
              "\n",
              "  .colab-df-quickchart-complete:disabled,\n",
              "  .colab-df-quickchart-complete:disabled:hover {\n",
              "    background-color: var(--disabled-bg-color);\n",
              "    fill: var(--disabled-fill-color);\n",
              "    box-shadow: none;\n",
              "  }\n",
              "\n",
              "  .colab-df-spinner {\n",
              "    border: 2px solid var(--fill-color);\n",
              "    border-color: transparent;\n",
              "    border-bottom-color: var(--fill-color);\n",
              "    animation:\n",
              "      spin 1s steps(1) infinite;\n",
              "  }\n",
              "\n",
              "  @keyframes spin {\n",
              "    0% {\n",
              "      border-color: transparent;\n",
              "      border-bottom-color: var(--fill-color);\n",
              "      border-left-color: var(--fill-color);\n",
              "    }\n",
              "    20% {\n",
              "      border-color: transparent;\n",
              "      border-left-color: var(--fill-color);\n",
              "      border-top-color: var(--fill-color);\n",
              "    }\n",
              "    30% {\n",
              "      border-color: transparent;\n",
              "      border-left-color: var(--fill-color);\n",
              "      border-top-color: var(--fill-color);\n",
              "      border-right-color: var(--fill-color);\n",
              "    }\n",
              "    40% {\n",
              "      border-color: transparent;\n",
              "      border-right-color: var(--fill-color);\n",
              "      border-top-color: var(--fill-color);\n",
              "    }\n",
              "    60% {\n",
              "      border-color: transparent;\n",
              "      border-right-color: var(--fill-color);\n",
              "    }\n",
              "    80% {\n",
              "      border-color: transparent;\n",
              "      border-right-color: var(--fill-color);\n",
              "      border-bottom-color: var(--fill-color);\n",
              "    }\n",
              "    90% {\n",
              "      border-color: transparent;\n",
              "      border-bottom-color: var(--fill-color);\n",
              "    }\n",
              "  }\n",
              "</style>\n",
              "\n",
              "  <script>\n",
              "    async function quickchart(key) {\n",
              "      const quickchartButtonEl =\n",
              "        document.querySelector('#' + key + ' button');\n",
              "      quickchartButtonEl.disabled = true;  // To prevent multiple clicks.\n",
              "      quickchartButtonEl.classList.add('colab-df-spinner');\n",
              "      try {\n",
              "        const charts = await google.colab.kernel.invokeFunction(\n",
              "            'suggestCharts', [key], {});\n",
              "      } catch (error) {\n",
              "        console.error('Error during call to suggestCharts:', error);\n",
              "      }\n",
              "      quickchartButtonEl.classList.remove('colab-df-spinner');\n",
              "      quickchartButtonEl.classList.add('colab-df-quickchart-complete');\n",
              "    }\n",
              "    (() => {\n",
              "      let quickchartButtonEl =\n",
              "        document.querySelector('#df-d87a8a6a-eef1-4806-845b-b1f86ec25f53 button');\n",
              "      quickchartButtonEl.style.display =\n",
              "        google.colab.kernel.accessAllowed ? 'block' : 'none';\n",
              "    })();\n",
              "  </script>\n",
              "</div>\n",
              "    </div>\n",
              "  </div>\n"
            ]
          },
          "metadata": {},
          "execution_count": 256
        }
      ],
      "source": [
        "df_bitcoin.describe()"
      ]
    },
    {
      "cell_type": "markdown",
      "metadata": {
        "id": "zA2xpj0wi_oy"
      },
      "source": [
        "#**3.Web scraping**"
      ]
    },
    {
      "cell_type": "markdown",
      "metadata": {
        "id": "--JGbWI3jDsy"
      },
      "source": [
        "Para realizar web scraping en la página https://coinmarketcap.com/ y extraer el precio actual del Bitcoin en dólares (USD) y la variación de su precio en la última hora (1h %), necesitamos utilizar la biblioteca BeautifulSoup junto con la biblioteca requests."
      ]
    },
    {
      "cell_type": "code",
      "execution_count": 257,
      "metadata": {
        "colab": {
          "base_uri": "https://localhost:8080/"
        },
        "id": "l3_dsAa9_9lC",
        "outputId": "cb517a0a-728d-45d7-f8a3-95b80f5b3d54"
      },
      "outputs": [
        {
          "output_type": "stream",
          "name": "stdout",
          "text": [
            "Requirement already satisfied: beautifulsoup4 in /usr/local/lib/python3.10/dist-packages (4.11.2)\n",
            "Requirement already satisfied: requests in /usr/local/lib/python3.10/dist-packages (2.31.0)\n",
            "Requirement already satisfied: soupsieve>1.2 in /usr/local/lib/python3.10/dist-packages (from beautifulsoup4) (2.5)\n",
            "Requirement already satisfied: charset-normalizer<4,>=2 in /usr/local/lib/python3.10/dist-packages (from requests) (3.3.1)\n",
            "Requirement already satisfied: idna<4,>=2.5 in /usr/local/lib/python3.10/dist-packages (from requests) (3.4)\n",
            "Requirement already satisfied: urllib3<3,>=1.21.1 in /usr/local/lib/python3.10/dist-packages (from requests) (2.0.7)\n",
            "Requirement already satisfied: certifi>=2017.4.17 in /usr/local/lib/python3.10/dist-packages (from requests) (2023.7.22)\n"
          ]
        }
      ],
      "source": [
        "#Instalo la bilioteca beautifulsoup4\n",
        "!pip install beautifulsoup4 requests"
      ]
    },
    {
      "cell_type": "markdown",
      "metadata": {
        "id": "gt0ntc3dBONk"
      },
      "source": [
        "creamos un script que realice el web scraping de la siguiente manera:\n",
        "\n",
        "Este script realiza una solicitud GET a la página de CoinMarketCap, utiliza\n",
        "BeautifulSoup para analizar el HTML y extrae el precio actual del Bitcoin en USD, así como la variación en la última hora. Luego, determina si la tendencia es \"alta\" o \"baja\" en función del cambio en la última hora. Por último, muestra el precio actual y la tendencia."
      ]
    },
    {
      "cell_type": "code",
      "execution_count": 260,
      "metadata": {
        "colab": {
          "base_uri": "https://localhost:8080/"
        },
        "id": "-O2eTXW2Cz9N",
        "outputId": "16b36834-0617-4c50-9ccf-74e9355db251"
      },
      "outputs": [
        {
          "output_type": "stream",
          "name": "stdout",
          "text": [
            "Precio Actual: 3446928.0\n",
            "Tendencia: baja\n",
            "Media Bitcoin: 33386.91180622587\n",
            "Algoritmo de Decisión: Esperar\n"
          ]
        }
      ],
      "source": [
        "def extraer_tendencias():\n",
        "  import requests\n",
        "  from bs4 import BeautifulSoup\n",
        "\n",
        "  global df_bitcoin, precio_actual, tendencia, media_bitcoin, algoritmo_decision\n",
        "\n",
        "# Crear un objeto de la clase Ticker para BTC-USD\n",
        "  bitcoin = yf.Ticker(\"BTC-USD\")\n",
        "\n",
        "# URL de la página de CoinMarketCap\n",
        "url = \"https://coinmarketcap.com/\"\n",
        "# Realizar una solicitud GET a la URL\n",
        "response = requests.get(url)\n",
        " # Parsear el contenido de la página con BeautifulSoup\n",
        "soup = BeautifulSoup(response.content, features = 'lxml')\n",
        "\n",
        "# Buscar el elemento que contiene el precio actual del Bitcoin en USD\n",
        "bitcoin_price_element = soup.find('div', {'class': ['sc-a0353bbc-0 gDrtaY rise','sc-a0353bbc-0 gDrtaY','sc-a0353bbc-0 gDrtaY fall']})\n",
        "#Buscar el elemento que contiene la variación del precio en la última hora (1h %)\n",
        "bitcoin_1h_change_element = soup.find('span', {'class': ['sc-d55c02b-0 gUnzUB','sc-d55c02b-0 iwhBxy']})\n",
        "\n",
        "\n",
        "span_element = bitcoin_price_element.find('span')\n",
        "span_element2 = bitcoin_1h_change_element.find('span')\n",
        "\n",
        "variacion = span_element2.get('class')\n",
        "\n",
        "precio = span_element.text.strip()\n",
        "precio_actual = float(precio.replace(\"$\",\"\").replace(\".\",\"\").replace(\",\",\"\"))\n",
        "\n",
        "variacion = str(variacion)\n",
        "\n",
        "# Llama a la función para extraer las tendencias\n",
        "\n",
        "extraer_tendencias()\n",
        "\n",
        "if variacion == \"['icon-Caret-up']\":\n",
        "    tendencia = \"alta\"\n",
        "elif variacion == \"['icon-Caret-down']\":\n",
        "    tendencia = \"baja\"\n",
        "else:\n",
        "    tendencia = \"\"\n",
        "\n",
        "\n",
        "# Imprime las variables globales\n",
        "print(\"Precio Actual:\", precio_actual)\n",
        "print(\"Tendencia:\", tendencia)\n",
        "print(\"Media Bitcoin:\", media_bitcoin)\n",
        "print(\"Algoritmo de Decisión:\", algoritmo_decision)\n",
        ""
      ]
    },
    {
      "cell_type": "markdown",
      "metadata": {
        "id": "uOGdseZyfVVa"
      },
      "source": [
        "#**4.Limpieza de Datos Y Exploracion de datos**\n",
        "\n"
      ]
    },
    {
      "cell_type": "code",
      "source": [
        "df_bitcoin_limpio = df_bitcoin.copy()\n",
        "df_bitcoin_limpio.info()"
      ],
      "metadata": {
        "colab": {
          "base_uri": "https://localhost:8080/"
        },
        "id": "ON1TBlCRUMNX",
        "outputId": "8e5495e9-4ee4-49de-a214-73e500e8af90"
      },
      "execution_count": 261,
      "outputs": [
        {
          "output_type": "stream",
          "name": "stdout",
          "text": [
            "<class 'pandas.core.frame.DataFrame'>\n",
            "DatetimeIndex: 2590 entries, 2023-10-22 00:00:00+00:00 to 2023-10-31 02:00:00+00:00\n",
            "Data columns (total 7 columns):\n",
            " #   Column        Non-Null Count  Dtype  \n",
            "---  ------        --------------  -----  \n",
            " 0   Open          2590 non-null   float64\n",
            " 1   High          2590 non-null   float64\n",
            " 2   Low           2590 non-null   float64\n",
            " 3   Close         2590 non-null   float64\n",
            " 4   Volume        2590 non-null   int64  \n",
            " 5   Dividends     2590 non-null   float64\n",
            " 6   Stock Splits  2590 non-null   float64\n",
            "dtypes: float64(6), int64(1)\n",
            "memory usage: 161.9 KB\n"
          ]
        }
      ]
    },
    {
      "cell_type": "markdown",
      "metadata": {
        "id": "oTmh8GDkkbpo"
      },
      "source": [
        "En este ejemplo, primero se crea un DataFrame df_bitcoin con algunos datos de ejemplo. Luego, se utiliza el método copy() para crear una copia independiente en el DataFrame df_bitcoin_limpio"
      ]
    },
    {
      "cell_type": "code",
      "execution_count": 271,
      "metadata": {
        "colab": {
          "base_uri": "https://localhost:8080/",
          "height": 448
        },
        "id": "ZoEpheh4w2ZR",
        "outputId": "b02faa17-a4e8-48bd-d007-85d6939705f1"
      },
      "outputs": [
        {
          "output_type": "execute_result",
          "data": {
            "text/plain": [
              "<Axes: >"
            ]
          },
          "metadata": {},
          "execution_count": 271
        },
        {
          "output_type": "display_data",
          "data": {
            "text/plain": [
              "<Figure size 640x480 with 1 Axes>"
            ],
            "image/png": "[encoded data removed]"
          },
          "metadata": {}
        }
      ],
      "source": [
        "#Datos sin tratar\n",
        "df_bitcoin.boxplot(['Close'])\n",
        "\n"
      ]
    },
    {
      "cell_type": "code",
      "execution_count": 272,
      "metadata": {
        "colab": {
          "base_uri": "https://localhost:8080/"
        },
        "id": "w2XCkIJXfmbC",
        "outputId": "456e7482-7245-4097-c1f1-9cc48509f935"
      },
      "outputs": [
        {
          "output_type": "stream",
          "name": "stdout",
          "text": [
            "Precio Actual: 3446928.0\n",
            "Tendencia: baja\n",
            "Media Bitcoin: 33386.91180622587\n",
            "Algoritmo de Decisión: Esperar\n"
          ]
        }
      ],
      "source": [
        "# Crear una copia del DataFrame df_bitcoin en df_bitcoin_limpio\n",
        "df_bitcoin_limpio = df_bitcoin.copy()\n",
        "# Imprime las variables globales\n",
        "print(\"Precio Actual:\", precio_actual)\n",
        "print(\"Tendencia:\", tendencia)\n",
        "print(\"Media Bitcoin:\", media_bitcoin)\n",
        "print(\"Algoritmo de Decisión:\", algoritmo_decision)\n"
      ]
    },
    {
      "cell_type": "code",
      "execution_count": 273,
      "metadata": {
        "colab": {
          "base_uri": "https://localhost:8080/",
          "height": 300
        },
        "id": "ntR1vp9AxFLm",
        "outputId": "43df6d30-580e-4e6d-86fb-aacaa2707680"
      },
      "outputs": [
        {
          "output_type": "execute_result",
          "data": {
            "text/plain": [
              "               Open          High           Low         Close        Volume  \\\n",
              "count   2590.000000   2590.000000   2590.000000   2590.000000  2.590000e+03   \n",
              "mean   33385.125864  33405.207522  33366.037590  33386.911806  2.976039e+07   \n",
              "std     1640.965406   1642.074631   1638.609125   1640.218055  1.083643e+08   \n",
              "min    29753.654297  29773.673828  29720.312500  29745.027344  0.000000e+00   \n",
              "25%    33721.166016  33748.127930  33683.844727  33711.666992  0.000000e+00   \n",
              "50%    34100.275391  34113.068359  34089.546875  34100.937500  7.168000e+03   \n",
              "75%    34388.984375  34412.514648  34359.112305  34381.212891  2.543027e+07   \n",
              "max    35116.218750  35150.433594  34950.511719  35044.105469  3.564442e+09   \n",
              "\n",
              "       Dividends  Stock Splits  \n",
              "count     2590.0        2590.0  \n",
              "mean         0.0           0.0  \n",
              "std          0.0           0.0  \n",
              "min          0.0           0.0  \n",
              "25%          0.0           0.0  \n",
              "50%          0.0           0.0  \n",
              "75%          0.0           0.0  \n",
              "max          0.0           0.0  "
            ],
            "text/html": [
              "\n",
              "  <div id=\"df-db248d6f-d65b-4582-a5a6-f77f6495e9ea\" class=\"colab-df-container\">\n",
              "    <div>\n",
              "<style scoped>\n",
              "    .dataframe tbody tr th:only-of-type {\n",
              "        vertical-align: middle;\n",
              "    }\n",
              "\n",
              "    .dataframe tbody tr th {\n",
              "        vertical-align: top;\n",
              "    }\n",
              "\n",
              "    .dataframe thead th {\n",
              "        text-align: right;\n",
              "    }\n",
              "</style>\n",
              "<table border=\"1\" class=\"dataframe\">\n",
              "  <thead>\n",
              "    <tr style=\"text-align: right;\">\n",
              "      <th></th>\n",
              "      <th>Open</th>\n",
              "      <th>High</th>\n",
              "      <th>Low</th>\n",
              "      <th>Close</th>\n",
              "      <th>Volume</th>\n",
              "      <th>Dividends</th>\n",
              "      <th>Stock Splits</th>\n",
              "    </tr>\n",
              "  </thead>\n",
              "  <tbody>\n",
              "    <tr>\n",
              "      <th>count</th>\n",
              "      <td>2590.000000</td>\n",
              "      <td>2590.000000</td>\n",
              "      <td>2590.000000</td>\n",
              "      <td>2590.000000</td>\n",
              "      <td>2.590000e+03</td>\n",
              "      <td>2590.0</td>\n",
              "      <td>2590.0</td>\n",
              "    </tr>\n",
              "    <tr>\n",
              "      <th>mean</th>\n",
              "      <td>33385.125864</td>\n",
              "      <td>33405.207522</td>\n",
              "      <td>33366.037590</td>\n",
              "      <td>33386.911806</td>\n",
              "      <td>2.976039e+07</td>\n",
              "      <td>0.0</td>\n",
              "      <td>0.0</td>\n",
              "    </tr>\n",
              "    <tr>\n",
              "      <th>std</th>\n",
              "      <td>1640.965406</td>\n",
              "      <td>1642.074631</td>\n",
              "      <td>1638.609125</td>\n",
              "      <td>1640.218055</td>\n",
              "      <td>1.083643e+08</td>\n",
              "      <td>0.0</td>\n",
              "      <td>0.0</td>\n",
              "    </tr>\n",
              "    <tr>\n",
              "      <th>min</th>\n",
              "      <td>29753.654297</td>\n",
              "      <td>29773.673828</td>\n",
              "      <td>29720.312500</td>\n",
              "      <td>29745.027344</td>\n",
              "      <td>0.000000e+00</td>\n",
              "      <td>0.0</td>\n",
              "      <td>0.0</td>\n",
              "    </tr>\n",
              "    <tr>\n",
              "      <th>25%</th>\n",
              "      <td>33721.166016</td>\n",
              "      <td>33748.127930</td>\n",
              "      <td>33683.844727</td>\n",
              "      <td>33711.666992</td>\n",
              "      <td>0.000000e+00</td>\n",
              "      <td>0.0</td>\n",
              "      <td>0.0</td>\n",
              "    </tr>\n",
              "    <tr>\n",
              "      <th>50%</th>\n",
              "      <td>34100.275391</td>\n",
              "      <td>34113.068359</td>\n",
              "      <td>34089.546875</td>\n",
              "      <td>34100.937500</td>\n",
              "      <td>7.168000e+03</td>\n",
              "      <td>0.0</td>\n",
              "      <td>0.0</td>\n",
              "    </tr>\n",
              "    <tr>\n",
              "      <th>75%</th>\n",
              "      <td>34388.984375</td>\n",
              "      <td>34412.514648</td>\n",
              "      <td>34359.112305</td>\n",
              "      <td>34381.212891</td>\n",
              "      <td>2.543027e+07</td>\n",
              "      <td>0.0</td>\n",
              "      <td>0.0</td>\n",
              "    </tr>\n",
              "    <tr>\n",
              "      <th>max</th>\n",
              "      <td>35116.218750</td>\n",
              "      <td>35150.433594</td>\n",
              "      <td>34950.511719</td>\n",
              "      <td>35044.105469</td>\n",
              "      <td>3.564442e+09</td>\n",
              "      <td>0.0</td>\n",
              "      <td>0.0</td>\n",
              "    </tr>\n",
              "  </tbody>\n",
              "</table>\n",
              "</div>\n",
              "    <div class=\"colab-df-buttons\">\n",
              "\n",
              "  <div class=\"colab-df-container\">\n",
              "    <button class=\"colab-df-convert\" onclick=\"convertToInteractive('df-db248d6f-d65b-4582-a5a6-f77f6495e9ea')\"\n",
              "            title=\"Convert this dataframe to an interactive table.\"\n",
              "            style=\"display:none;\">\n",
              "\n",
              "  <svg xmlns=\"http://www.w3.org/2000/svg\" height=\"24px\" viewBox=\"0 -960 960 960\">\n",
              "    <path d=\"M120-120v-720h720v720H120Zm60-500h600v-160H180v160Zm220 220h160v-160H400v160Zm0 220h160v-160H400v160ZM180-400h160v-160H180v160Zm440 0h160v-160H620v160ZM180-180h160v-160H180v160Zm440 0h160v-160H620v160Z\"/>\n",
              "  </svg>\n",
              "    </button>\n",
              "\n",
              "  <style>\n",
              "    .colab-df-container {\n",
              "      display:flex;\n",
              "      gap: 12px;\n",
              "    }\n",
              "\n",
              "    .colab-df-convert {\n",
              "      background-color: #E8F0FE;\n",
              "      border: none;\n",
              "      border-radius: 50%;\n",
              "      cursor: pointer;\n",
              "      display: none;\n",
              "      fill: #1967D2;\n",
              "      height: 32px;\n",
              "      padding: 0 0 0 0;\n",
              "      width: 32px;\n",
              "    }\n",
              "\n",
              "    .colab-df-convert:hover {\n",
              "      background-color: #E2EBFA;\n",
              "      box-shadow: 0px 1px 2px rgba(60, 64, 67, 0.3), 0px 1px 3px 1px rgba(60, 64, 67, 0.15);\n",
              "      fill: #174EA6;\n",
              "    }\n",
              "\n",
              "    .colab-df-buttons div {\n",
              "      margin-bottom: 4px;\n",
              "    }\n",
              "\n",
              "    [theme=dark] .colab-df-convert {\n",
              "      background-color: #3B4455;\n",
              "      fill: #D2E3FC;\n",
              "    }\n",
              "\n",
              "    [theme=dark] .colab-df-convert:hover {\n",
              "      background-color: #434B5C;\n",
              "      box-shadow: 0px 1px 3px 1px rgba(0, 0, 0, 0.15);\n",
              "      filter: drop-shadow(0px 1px 2px rgba(0, 0, 0, 0.3));\n",
              "      fill: #FFFFFF;\n",
              "    }\n",
              "  </style>\n",
              "\n",
              "    <script>\n",
              "      const buttonEl =\n",
              "        document.querySelector('#df-db248d6f-d65b-4582-a5a6-f77f6495e9ea button.colab-df-convert');\n",
              "      buttonEl.style.display =\n",
              "        google.colab.kernel.accessAllowed ? 'block' : 'none';\n",
              "\n",
              "      async function convertToInteractive(key) {\n",
              "        const element = document.querySelector('#df-db248d6f-d65b-4582-a5a6-f77f6495e9ea');\n",
              "        const dataTable =\n",
              "          await google.colab.kernel.invokeFunction('convertToInteractive',\n",
              "                                                    [key], {});\n",
              "        if (!dataTable) return;\n",
              "\n",
              "        const docLinkHtml = 'Like what you see? Visit the ' +\n",
              "          '<a target=\"_blank\" href=https://colab.research.google.com/notebooks/data_table.ipynb>data table notebook</a>'\n",
              "          + ' to learn more about interactive tables.';\n",
              "        element.innerHTML = '';\n",
              "        dataTable['output_type'] = 'display_data';\n",
              "        await google.colab.output.renderOutput(dataTable, element);\n",
              "        const docLink = document.createElement('div');\n",
              "        docLink.innerHTML = docLinkHtml;\n",
              "        element.appendChild(docLink);\n",
              "      }\n",
              "    </script>\n",
              "  </div>\n",
              "\n",
              "\n",
              "<div id=\"df-22b862e5-31df-460d-b524-645ba008f385\">\n",
              "  <button class=\"colab-df-quickchart\" onclick=\"quickchart('df-22b862e5-31df-460d-b524-645ba008f385')\"\n",
              "            title=\"Suggest charts.\"\n",
              "            style=\"display:none;\">\n",
              "\n",
              "<svg xmlns=\"http://www.w3.org/2000/svg\" height=\"24px\"viewBox=\"0 0 24 24\"\n",
              "     width=\"24px\">\n",
              "    <g>\n",
              "        <path d=\"M19 3H5c-1.1 0-2 .9-2 2v14c0 1.1.9 2 2 2h14c1.1 0 2-.9 2-2V5c0-1.1-.9-2-2-2zM9 17H7v-7h2v7zm4 0h-2V7h2v10zm4 0h-2v-4h2v4z\"/>\n",
              "    </g>\n",
              "</svg>\n",
              "  </button>\n",
              "\n",
              "<style>\n",
              "  .colab-df-quickchart {\n",
              "      --bg-color: #E8F0FE;\n",
              "      --fill-color: #1967D2;\n",
              "      --hover-bg-color: #E2EBFA;\n",
              "      --hover-fill-color: #174EA6;\n",
              "      --disabled-fill-color: #AAA;\n",
              "      --disabled-bg-color: #DDD;\n",
              "  }\n",
              "\n",
              "  [theme=dark] .colab-df-quickchart {\n",
              "      --bg-color: #3B4455;\n",
              "      --fill-color: #D2E3FC;\n",
              "      --hover-bg-color: #434B5C;\n",
              "      --hover-fill-color: #FFFFFF;\n",
              "      --disabled-bg-color: #3B4455;\n",
              "      --disabled-fill-color: #666;\n",
              "  }\n",
              "\n",
              "  .colab-df-quickchart {\n",
              "    background-color: var(--bg-color);\n",
              "    border: none;\n",
              "    border-radius: 50%;\n",
              "    cursor: pointer;\n",
              "    display: none;\n",
              "    fill: var(--fill-color);\n",
              "    height: 32px;\n",
              "    padding: 0;\n",
              "    width: 32px;\n",
              "  }\n",
              "\n",
              "  .colab-df-quickchart:hover {\n",
              "    background-color: var(--hover-bg-color);\n",
              "    box-shadow: 0 1px 2px rgba(60, 64, 67, 0.3), 0 1px 3px 1px rgba(60, 64, 67, 0.15);\n",
              "    fill: var(--button-hover-fill-color);\n",
              "  }\n",
              "\n",
              "  .colab-df-quickchart-complete:disabled,\n",
              "  .colab-df-quickchart-complete:disabled:hover {\n",
              "    background-color: var(--disabled-bg-color);\n",
              "    fill: var(--disabled-fill-color);\n",
              "    box-shadow: none;\n",
              "  }\n",
              "\n",
              "  .colab-df-spinner {\n",
              "    border: 2px solid var(--fill-color);\n",
              "    border-color: transparent;\n",
              "    border-bottom-color: var(--fill-color);\n",
              "    animation:\n",
              "      spin 1s steps(1) infinite;\n",
              "  }\n",
              "\n",
              "  @keyframes spin {\n",
              "    0% {\n",
              "      border-color: transparent;\n",
              "      border-bottom-color: var(--fill-color);\n",
              "      border-left-color: var(--fill-color);\n",
              "    }\n",
              "    20% {\n",
              "      border-color: transparent;\n",
              "      border-left-color: var(--fill-color);\n",
              "      border-top-color: var(--fill-color);\n",
              "    }\n",
              "    30% {\n",
              "      border-color: transparent;\n",
              "      border-left-color: var(--fill-color);\n",
              "      border-top-color: var(--fill-color);\n",
              "      border-right-color: var(--fill-color);\n",
              "    }\n",
              "    40% {\n",
              "      border-color: transparent;\n",
              "      border-right-color: var(--fill-color);\n",
              "      border-top-color: var(--fill-color);\n",
              "    }\n",
              "    60% {\n",
              "      border-color: transparent;\n",
              "      border-right-color: var(--fill-color);\n",
              "    }\n",
              "    80% {\n",
              "      border-color: transparent;\n",
              "      border-right-color: var(--fill-color);\n",
              "      border-bottom-color: var(--fill-color);\n",
              "    }\n",
              "    90% {\n",
              "      border-color: transparent;\n",
              "      border-bottom-color: var(--fill-color);\n",
              "    }\n",
              "  }\n",
              "</style>\n",
              "\n",
              "  <script>\n",
              "    async function quickchart(key) {\n",
              "      const quickchartButtonEl =\n",
              "        document.querySelector('#' + key + ' button');\n",
              "      quickchartButtonEl.disabled = true;  // To prevent multiple clicks.\n",
              "      quickchartButtonEl.classList.add('colab-df-spinner');\n",
              "      try {\n",
              "        const charts = await google.colab.kernel.invokeFunction(\n",
              "            'suggestCharts', [key], {});\n",
              "      } catch (error) {\n",
              "        console.error('Error during call to suggestCharts:', error);\n",
              "      }\n",
              "      quickchartButtonEl.classList.remove('colab-df-spinner');\n",
              "      quickchartButtonEl.classList.add('colab-df-quickchart-complete');\n",
              "    }\n",
              "    (() => {\n",
              "      let quickchartButtonEl =\n",
              "        document.querySelector('#df-22b862e5-31df-460d-b524-645ba008f385 button');\n",
              "      quickchartButtonEl.style.display =\n",
              "        google.colab.kernel.accessAllowed ? 'block' : 'none';\n",
              "    })();\n",
              "  </script>\n",
              "</div>\n",
              "    </div>\n",
              "  </div>\n"
            ]
          },
          "metadata": {},
          "execution_count": 273
        }
      ],
      "source": [
        "#Metodo describe\n",
        "df_bitcoin_limpio.describe()"
      ]
    },
    {
      "cell_type": "code",
      "execution_count": 274,
      "metadata": {
        "colab": {
          "base_uri": "https://localhost:8080/"
        },
        "id": "pgLjMsdkxeBB",
        "outputId": "e9cceb31-90e3-450f-b7a4-36d3e4e4026d"
      },
      "outputs": [
        {
          "output_type": "stream",
          "name": "stdout",
          "text": [
            "<class 'pandas.core.frame.DataFrame'>\n",
            "DatetimeIndex: 2590 entries, 2023-10-22 00:00:00+00:00 to 2023-10-31 02:00:00+00:00\n",
            "Data columns (total 7 columns):\n",
            " #   Column        Non-Null Count  Dtype  \n",
            "---  ------        --------------  -----  \n",
            " 0   Open          2590 non-null   float64\n",
            " 1   High          2590 non-null   float64\n",
            " 2   Low           2590 non-null   float64\n",
            " 3   Close         2590 non-null   float64\n",
            " 4   Volume        2590 non-null   int64  \n",
            " 5   Dividends     2590 non-null   float64\n",
            " 6   Stock Splits  2590 non-null   float64\n",
            "dtypes: float64(6), int64(1)\n",
            "memory usage: 161.9 KB\n"
          ]
        }
      ],
      "source": [
        "df_bitcoin_limpio.info()"
      ]
    },
    {
      "cell_type": "code",
      "execution_count": 275,
      "metadata": {
        "colab": {
          "base_uri": "https://localhost:8080/"
        },
        "id": "9DeCp2y_xmus",
        "outputId": "d8eeb582-8df4-4c31-e483-9cbbbc3bbde5"
      },
      "outputs": [
        {
          "output_type": "execute_result",
          "data": {
            "text/plain": [
              "Open            float64\n",
              "High            float64\n",
              "Low             float64\n",
              "Close           float64\n",
              "Volume            int64\n",
              "Dividends       float64\n",
              "Stock Splits    float64\n",
              "dtype: object"
            ]
          },
          "metadata": {},
          "execution_count": 275
        }
      ],
      "source": [
        "df_bitcoin_limpio.dtypes"
      ]
    },
    {
      "cell_type": "code",
      "execution_count": 276,
      "metadata": {
        "colab": {
          "base_uri": "https://localhost:8080/"
        },
        "id": "sKZPZPuMxrQW",
        "outputId": "8fbfdbbf-9d42-4707-e4d8-72b2c458a8b5"
      },
      "outputs": [
        {
          "output_type": "execute_result",
          "data": {
            "text/plain": [
              "(2590, 7)"
            ]
          },
          "metadata": {},
          "execution_count": 276
        }
      ],
      "source": [
        "df_bitcoin_limpio.shape"
      ]
    },
    {
      "cell_type": "code",
      "execution_count": 277,
      "metadata": {
        "colab": {
          "base_uri": "https://localhost:8080/"
        },
        "id": "kbLQ7ay0xrTD",
        "outputId": "8ec8cf2a-36bd-4115-df89-676947d7ca95"
      },
      "outputs": [
        {
          "output_type": "stream",
          "name": "stdout",
          "text": [
            "La base de datos presenta 2590 registros  y 7 columnas\n"
          ]
        }
      ],
      "source": [
        "df_bitcoin_limpio.shape[0]\n",
        "df_bitcoin_limpio.shape[1]\n",
        "\n",
        "print('La base de datos presenta {} registros  y {} columnas'.format(df_bitcoin_limpio.shape[0],df_bitcoin_limpio.shape[1]))"
      ]
    },
    {
      "cell_type": "markdown",
      "metadata": {
        "id": "SxmjQA_mkhyG"
      },
      "source": [
        "El código utiliza la función duplicated en el índice del DataFrame para identificar duplicados y luego usa la negación ~ para seleccionar solo las filas que no están duplicadas, conservando la primera ocurrencia de cada duplicado. El resultado es un DataFrame con índices únicos."
      ]
    },
    {
      "cell_type": "code",
      "execution_count": 278,
      "metadata": {
        "colab": {
          "base_uri": "https://localhost:8080/"
        },
        "id": "25YArhOvf4Jg",
        "outputId": "5ef7cda7-cf6d-405c-cbdb-ec94aa142691"
      },
      "outputs": [
        {
          "output_type": "stream",
          "name": "stdout",
          "text": [
            "(2590, 7) (2590, 7)\n",
            "Precio Actual: 3446928.0\n",
            "Tendencia: baja\n",
            "Media Bitcoin: 33386.91180622587\n",
            "Algoritmo de Decisión: Esperar\n"
          ]
        }
      ],
      "source": [
        "# Identificar duplicados en el índice y eliminarlos\n",
        "df_bitcoin_limpio = df_bitcoin_limpio[~df_bitcoin_limpio.index.duplicated(keep='first')]\n",
        "print(df_bitcoin.shape, df_bitcoin_limpio.shape)\n",
        "\n",
        "# En este punto, df_bitcoin_limpio contiene solo índices únicos\n",
        "\n",
        "# Mostrar el DataFrame resultante\n",
        "df_bitcoin_limpio.head()\n",
        "# Imprime las variables globales\n",
        "print(\"Precio Actual:\", precio_actual)\n",
        "print(\"Tendencia:\", tendencia)\n",
        "print(\"Media Bitcoin:\", media_bitcoin)\n",
        "print(\"Algoritmo de Decisión:\", algoritmo_decision)"
      ]
    },
    {
      "cell_type": "markdown",
      "metadata": {
        "id": "zVIaObUmksVs"
      },
      "source": [
        "primero se usa df_bitcoin_limpio['Close'].isnull() para identificar las filas que tienen valores nulos en la columna \"Close.\" Luego, se trata el valor nulo (en este caso, se reemplaza por la media de la columna) utilizando fillna."
      ]
    },
    {
      "cell_type": "code",
      "execution_count": 279,
      "metadata": {
        "colab": {
          "base_uri": "https://localhost:8080/"
        },
        "id": "0iQl5PcXf4RV",
        "outputId": "77510081-d6d0-4c95-e2d1-bf3cfbad5256"
      },
      "outputs": [
        {
          "output_type": "stream",
          "name": "stdout",
          "text": [
            "(2590, 7) (2590, 7)\n",
            "Precio Actual: 3446928.0\n",
            "Tendencia: baja\n",
            "Media Bitcoin: 33386.91180622587\n",
            "Algoritmo de Decisión: Esperar\n"
          ]
        }
      ],
      "source": [
        "# Buscar valores nulos en la columna \"Close\"\n",
        "valores_nulos = df_bitcoin_limpio[df_bitcoin_limpio['Close'].isnull()]\n",
        "\n",
        "# Tratar los valores nulos (por ejemplo, reemplazarlos por un valor específico, eliminar las filas, etc.)\n",
        "# En este ejemplo, reemplazamos los valores nulos por la media de la columna \"Close\"\n",
        "media_close = df_bitcoin_limpio['Close'].mean()\n",
        "df_bitcoin_limpio['Close'].fillna(media_close, inplace=True)\n",
        "print(df_bitcoin.shape, df_bitcoin_limpio.shape)\n",
        "# Mostrar el DataFrame resultante después de tratar los valores nulos\n",
        "df_bitcoin_limpio.head()\n",
        "# Imprime las variables globales\n",
        "print(\"Precio Actual:\", precio_actual)\n",
        "print(\"Tendencia:\", tendencia)\n",
        "print(\"Media Bitcoin:\", media_bitcoin)\n",
        "print(\"Algoritmo de Decisión:\", algoritmo_decision)\n"
      ]
    },
    {
      "cell_type": "markdown",
      "metadata": {
        "id": "BnW0ZYpjk6JX"
      },
      "source": [
        "En este ejemplo, primero se verifica qué registros tienen un volumen de transacción igual o menor a 0 utilizando df_bitcoin_limpio['Volume'] <= 0. Luego, se obtienen los índices de estos registros y se eliminan utilizando drop."
      ]
    },
    {
      "cell_type": "code",
      "execution_count": 280,
      "metadata": {
        "colab": {
          "base_uri": "https://localhost:8080/"
        },
        "id": "s27GSlB-gGHG",
        "outputId": "e7e87f50-9fed-4530-dd09-9791d6e0c284"
      },
      "outputs": [
        {
          "output_type": "stream",
          "name": "stdout",
          "text": [
            "(2590, 7) (1295, 7)\n",
            "Precio Actual: 3446928.0\n",
            "Tendencia: baja\n",
            "Media Bitcoin: 33386.91180622587\n",
            "Algoritmo de Decisión: Esperar\n"
          ]
        }
      ],
      "source": [
        "# Verificar registros con Volumen menor o igual a 0\n",
        "indices_a_eliminar = df_bitcoin_limpio[df_bitcoin_limpio['Volume'] <= 0].index\n",
        "\n",
        "# Eliminar los registros con Volumen menor o igual a 0\n",
        "df_bitcoin_limpio.drop(indices_a_eliminar, inplace=True)\n",
        "\n",
        "# Mostrar el DataFrame resultante después de eliminar los registros\n",
        "print(df_bitcoin.shape, df_bitcoin_limpio.shape)\n",
        "df_bitcoin_limpio.head()\n",
        "# Imprime las variables globales\n",
        "print(\"Precio Actual:\", precio_actual)\n",
        "print(\"Tendencia:\", tendencia)\n",
        "print(\"Media Bitcoin:\", media_bitcoin)\n",
        "print(\"Algoritmo de Decisión:\", algoritmo_decision)"
      ]
    },
    {
      "cell_type": "markdown",
      "metadata": {
        "id": "Dw4hihQ8g-0y"
      },
      "source": [
        "En este código, primero se crea un gráfico de caja para visualizar los outliers en la columna \"Close.\" Luego, se utiliza el rango intercuartílico (IQR) para definir un umbral que determina los valores atípicos. Los registros que caen fuera de este umbral se consideran outliers y se eliminan del DataFrame"
      ]
    },
    {
      "cell_type": "code",
      "execution_count": 282,
      "metadata": {
        "colab": {
          "base_uri": "https://localhost:8080/",
          "height": 1000
        },
        "id": "rurE3ihkgruu",
        "outputId": "1f501e82-cc5a-4984-ace3-85f12da64034"
      },
      "outputs": [
        {
          "output_type": "display_data",
          "data": {
            "text/plain": [
              "<Figure size 800x600 with 1 Axes>"
            ],
            "image/png": "[encoded data removed]"
          },
          "metadata": {}
        },
        {
          "output_type": "stream",
          "name": "stdout",
          "text": [
            "Precio Actual: 3446928.0\n",
            "Tendencia: baja\n",
            "Media Bitcoin: 33386.91180622587\n",
            "Algoritmo de Decisión: Esperar\n"
          ]
        },
        {
          "output_type": "display_data",
          "data": {
            "text/plain": [
              "<Figure size 640x480 with 1 Axes>"
            ],
            "image/png": "[encoded data removed]"
          },
          "metadata": {}
        }
      ],
      "source": [
        "# Crear un gráfico de caja (boxplot) para visualizar los outliers\n",
        "import matplotlib.pyplot as plt\n",
        "plt.figure(figsize=(8, 6))\n",
        "plt.boxplot(df_bitcoin_limpio['Close'], vert=False)\n",
        "plt.title(\"Gráfico de Caja para Identificar Outliers\")\n",
        "plt.xlabel(\"Precio de Cierre (Close)\")\n",
        "plt.show()\n",
        "\n",
        "# Identificar los valores atípicos (outliers) utilizando un criterio, por ejemplo, el rango intercuartílico (IQR)\n",
        "Q1 = df_bitcoin_limpio['Close'].quantile(0.25)\n",
        "Q3 = df_bitcoin_limpio['Close'].quantile(0.75)\n",
        "\n",
        "\n",
        "# Filtrar los registros que no son outliers\n",
        "df_bitcoin.boxplot(['Close'])\n",
        "df_bitcoin_limpio = df_bitcoin_limpio[(df_bitcoin_limpio['Close'] >= umbral_inferior) & (df_bitcoin_limpio['Close'] <= umbral_superior)]\n",
        "\n",
        "\n",
        "# Mostrar el DataFrame resultante después de eliminar los outliers\n",
        "df_bitcoin_limpio.head()\n",
        "# Imprime las variables globales\n",
        "print(\"Precio Actual:\", precio_actual)\n",
        "print(\"Tendencia:\", tendencia)\n",
        "print(\"Media Bitcoin:\", media_bitcoin)\n",
        "print(\"Algoritmo de Decisión:\", algoritmo_decision)"
      ]
    },
    {
      "cell_type": "markdown",
      "metadata": {
        "id": "IEsTfg_KhNWU"
      },
      "source": [
        "En este código, primero se calculan los valores de Q1, Q3 y el IQR. Luego, se definen los límites del intervalo que deseas mantener, que son Q1 - 1.5 * IQR para el límite inferior y Q3 + 1.5 * IQR para el límite superior. Finalmente, se filtran los registros que caen dentro de este intervalo y se almacenan en un nuevo DataFrame llamado df_filtrado. Este DataFrame contendrá solo los registros cuyos precios estén entre Q1 y Q3, excluyendo los valores atípicos."
      ]
    },
    {
      "cell_type": "code",
      "execution_count": 283,
      "metadata": {
        "colab": {
          "base_uri": "https://localhost:8080/",
          "height": 501
        },
        "id": "R_7z87WShVA_",
        "outputId": "80a06929-90f8-440e-c948-05ff7fb2c9ea"
      },
      "outputs": [
        {
          "output_type": "stream",
          "name": "stdout",
          "text": [
            "Precio Actual: 3446928.0\n",
            "Tendencia: baja\n",
            "Media Bitcoin: 33386.91180622587\n",
            "Algoritmo de Decisión: Esperar\n"
          ]
        },
        {
          "output_type": "display_data",
          "data": {
            "text/plain": [
              "<Figure size 640x480 with 1 Axes>"
            ],
            "image/png": "[encoded data removed]"
          },
          "metadata": {}
        }
      ],
      "source": [
        "# Calcular el primer cuartil (Q1) y el tercer cuartil (Q3)\n",
        "Q1 = df_bitcoin_limpio['Close'].quantile(0.25)\n",
        "Q3 = df_bitcoin_limpio['Close'].quantile(0.75)\n",
        "\n",
        "\n",
        "# Filtrar los registros que se encuentran dentro del intervalo\n",
        "df_bitcoin_limpio = df_bitcoin_limpio[(df_bitcoin_limpio['Close'] >= Q1) & (df_bitcoin_limpio['Close'] <= Q3)]\n",
        "\n",
        "# Mostrar el DataFrame resultante con los registros dentro del intervalo\n",
        "df_bitcoin_limpio.boxplot(['Close'])\n",
        "df_bitcoin_limpio.head()\n",
        "# Imprime las variables globales\n",
        "print(\"Precio Actual:\", precio_actual)\n",
        "print(\"Tendencia:\", tendencia)\n",
        "print(\"Media Bitcoin:\", media_bitcoin)\n",
        "print(\"Algoritmo de Decisión:\", algoritmo_decision)"
      ]
    },
    {
      "cell_type": "markdown",
      "metadata": {
        "id": "jb39ybrUxYVP"
      },
      "source": [
        "Con estos pasos, calculamos el precio promedio de los registros que cumplen con los criterios establecidos y almacenamos el resultado en la variable media_bitcoin. Luego, mostramos la media calculada."
      ]
    },
    {
      "cell_type": "code",
      "execution_count": 285,
      "metadata": {
        "colab": {
          "base_uri": "https://localhost:8080/"
        },
        "id": "xH-sBuyThZ0a",
        "outputId": "7df8506a-e729-43ad-a399-352009d21015"
      },
      "outputs": [
        {
          "output_type": "stream",
          "name": "stdout",
          "text": [
            "Precio Promedio del Bitcoin (Close): 34332.656651947465\n",
            "Precio Actual: 3446928.0\n",
            "Tendencia: baja\n",
            "Media Bitcoin: 34332.656651947465\n",
            "Algoritmo de Decisión: Esperar\n"
          ]
        }
      ],
      "source": [
        "# Calcular el precio promedio (Close) de la selección\n",
        "media_bitcoin = df_filtrado['Close'].mean()\n",
        "\n",
        "# Mostrar la media del precio de Bitcoin\n",
        "print(\"Precio Promedio del Bitcoin (Close):\", media_bitcoin)\n",
        "\n",
        "# Imprime las variables globales\n",
        "print(\"Precio Actual:\", precio_actual)\n",
        "print(\"Tendencia:\", tendencia)\n",
        "print(\"Media Bitcoin:\", media_bitcoin)\n",
        "print(\"Algoritmo de Decisión:\", algoritmo_decision)"
      ]
    },
    {
      "cell_type": "code",
      "source": [
        "def limpieza_datos():\n",
        "\n",
        "\n",
        "  global df_bitcoin, precio_actual, tendencia, media_bitcoin,  algoritmo_decision\n",
        "\n",
        "  #Creamos la copia del dataframen original\n",
        "  df_bitcoin_limpio = df_bitcoin.copy()\n",
        "\n",
        "  # Eliminamos los indicex duplicados\n",
        "  df_bitcoin_limpio = df_bitcoin_limpio[~df_bitcoin_limpio.index.duplicated(keep='first')]\n",
        "\n",
        " # Manejo de valores nulos en la columna 'Close\n",
        "\n",
        "  # Borrar las filas con valores nulos en la columna 'Close'\n",
        "  df_bitcoin_limpio = df_bitcoin_limpio.dropna(subset=['Close'])\n",
        "\n",
        "# Validación y tratamiento de valores cero en la columna 'Volumen':\n",
        "\n",
        "  # Eliminación de filas con Volumen <= 0\n",
        "  df_bitcoin_limpio = df_bitcoin_limpio[df_bitcoin_limpio['Volume'] > 0]\n",
        "\n",
        " # Calcular el primer cuartil (Q1) y el tercer cuartil (Q3) de la columna \"Cerrar\".\n",
        "  Q1 = df_bitcoin_limpio['Close'].quantile(0.25)\n",
        "  Q3 = df_bitcoin_limpio['Close'].quantile(0.75)\n",
        "\n",
        "# Filtrar los registros donde el 'Cierre' está entre Q1 y Q3\n",
        "  df_bitcoin_limpio = df_bitcoin_limpio[(df_bitcoin_limpio['Close'] >= Q1) & (df_bitcoin_limpio['Close'] <= Q3)]\n",
        "\n",
        "# Calcular el precio medio del precio 'Close':\n",
        "\n",
        "  media_bitcoin = df_bitcoin_limpio['Close'].mean()\n",
        "\n",
        "  return media_bitcoin\n",
        "\n",
        "# Imprime las variables globales\n",
        "print(\"Precio Actual:\", precio_actual)\n",
        "print(\"Tendencia:\", tendencia)\n",
        "print(\"Media Bitcoin:\", media_bitcoin)\n",
        "print(\"Algoritmo de Decisión:\", algoritmo_decision)"
      ],
      "metadata": {
        "colab": {
          "base_uri": "https://localhost:8080/"
        },
        "id": "rPA475mGXeE-",
        "outputId": "9e2405dc-96d7-402f-917c-71179b7b148b"
      },
      "execution_count": 286,
      "outputs": [
        {
          "output_type": "stream",
          "name": "stdout",
          "text": [
            "Precio Actual: 3446928.0\n",
            "Tendencia: baja\n",
            "Media Bitcoin: 34332.656651947465\n",
            "Algoritmo de Decisión: Esperar\n"
          ]
        }
      ]
    },
    {
      "cell_type": "markdown",
      "metadata": {
        "id": "l4pm6fu4zC8j"
      },
      "source": [
        "#**5. Tomar decisiones**"
      ]
    },
    {
      "cell_type": "markdown",
      "metadata": {
        "id": "oRdDRL2Dx63A"
      },
      "source": [
        "En esta función, primero se definen las variables globales que se utilizarán (precio_actual, tendencia, media_bitcoin, algoritmo_decision). Luego, se aplican las condiciones especificadas en los criterios de decisión y se asigna el resultado a la variable algoritmo_decision. Finalmente, se muestra la decisión tomada.\n",
        "\n",
        "Asegúrate de llamar a esta función en tu código principal para tomar decisiones basadas en los valores actuales y la tendencia."
      ]
    },
    {
      "cell_type": "code",
      "execution_count": 287,
      "metadata": {
        "colab": {
          "base_uri": "https://localhost:8080/"
        },
        "id": "Ncnvz32Wxv2t",
        "outputId": "d2d517b0-81f8-4d46-a771-0dfdb09abac4"
      },
      "outputs": [
        {
          "output_type": "stream",
          "name": "stdout",
          "text": [
            "Decisión Tomada: Esperar\n",
            "Precio Actual: 3446928.0\n",
            "Tendencia: baja\n",
            "Media Bitcoin: 34332.656651947465\n",
            "Algoritmo de Decisión: Esperar\n"
          ]
        }
      ],
      "source": [
        "def tomar_decisiones():\n",
        "    global precio_actual, tendencia, media_bitcoin, algoritmo_decision,marker, marker_color\n",
        "\n",
        "    if precio_actual >= media_bitcoin and tendencia == \"Baja\":\n",
        "        algoritmo_decision = \"Vender\"\n",
        "        marker_color = \"Green\"\n",
        "    elif precio_actual < media_bitcoin and tendencia == \"alta\":\n",
        "        algoritmo_decision = \"Comprar\"\n",
        "        marker = \"v\"\n",
        "        marker_color = \"Red\"\n",
        "    else:\n",
        "        algoritmo_decision = \"Esperar\"\n",
        "        marker = \">\"\n",
        "        marker_color = \"Purple\"\n",
        "\n",
        "# Llama a la función para tomar decisiones\n",
        "tomar_decisiones()\n",
        "\n",
        "# Muestra la decisión tomada\n",
        "print(\"Decisión Tomada:\", algoritmo_decision)\n",
        "\n",
        "# Imprime las variables globales\n",
        "print(\"Precio Actual:\", precio_actual)\n",
        "print(\"Tendencia:\", tendencia)\n",
        "print(\"Media Bitcoin:\", media_bitcoin)\n",
        "print(\"Algoritmo de Decisión:\", algoritmo_decision)\n"
      ]
    },
    {
      "cell_type": "markdown",
      "metadata": {
        "id": "ujjX1AHex6gh"
      },
      "source": [
        "En este código, primero se agrega la columna \"Promedio\" al DataFrame original df_bitcoin. Luego, en la función visualizacion(), se configura el tamaño del gráfico, se agrega un título, se dibujan las líneas del precio de cierre y el promedio, se muestra la decisión del algoritmo en el gráfico y se muestra el gráfico en pantalla."
      ]
    },
    {
      "cell_type": "code",
      "execution_count": 313,
      "metadata": {
        "colab": {
          "base_uri": "https://localhost:8080/",
          "height": 560
        },
        "id": "VZH1fjlmzbpS",
        "outputId": "b7945c0c-a5ea-43e5-8489-381ea1a5e9ed"
      },
      "outputs": [
        {
          "output_type": "display_data",
          "data": {
            "text/plain": [
              "<Figure size 1600x500 with 1 Axes>"
            ],
            "image/png": "[encoded data removed]"
          },
          "metadata": {}
        },
        {
          "output_type": "stream",
          "name": "stdout",
          "text": [
            "Precio Actual: 3446928.0\n",
            "Tendencia: baja\n",
            "Media Bitcoin: 34332.656651947465\n",
            "Algoritmo de Decisión: Esperar\n"
          ]
        }
      ],
      "source": [
        "def visualizacion():\n",
        "    global df_bitcoin, precio_actual, tendencia, media_bitcoin, algoritmo_decision\n",
        "\n",
        "    if algoritmo_decision == 'Vender':\n",
        "      color_decision = '#229954'\n",
        "    elif algoritmo_decision =='Comprar':\n",
        "      color_decision = '#C0392B'\n",
        "    else:\n",
        "      color_decision = '#060201'\n",
        "\n",
        "\n",
        "    # Agregar la columna \"Promedio\" al DataFrame original\n",
        "    df_bitcoin['Promedio'] = media_bitcoin\n",
        "\n",
        "    # Configurar el tamaño del gráfico\n",
        "    plt.figure(figsize=(16, 5), facecolor='#D5D8DC')\n",
        "    plt.tick_params(axis='both', color='#D5F5E3')\n",
        "\n",
        "    # Agregar un título al gráfico\n",
        "    plt.title(\"Gráfico de Precio de Bitcoin con Decisión\", fontsize = 16, weight = 'bold', color='#273746')\n",
        "\n",
        "    # Dibujar una línea con los datos del índice y la columna \"Close\"\n",
        "    plt.plot(df_bitcoin.index, df_bitcoin['Close'], label='Precio de Cierre', linestyle='-', color='Blue')\n",
        "\n",
        "    # Dibujar una línea con los datos del índice y la columna \"Promedio\"\n",
        "    plt.plot(df_bitcoin.index, df_bitcoin['Promedio'], label='Promedio', color='red', linestyle='--')\n",
        "\n",
        "      #Cambiando el color de fondo del grafico\n",
        "    ejes = plt.gca()\n",
        "    ejes.set_facecolor('#85929E')\n",
        "\n",
        "    # Mostrar la decisión del algoritmo en el gráfico\n",
        "    plt.annotate(f'Decisión: {algoritmo_decision}', xy=(df_bitcoin.index[-1], df_bitcoin['Close'].iloc[-1]), xytext=(df_bitcoin.index[-1], df_bitcoin['Close'].iloc[-1] * 0.9),\n",
        "                 arrowprops=dict(facecolor='red', shrink=0.4), fontsize=12, color= color_decision)\n",
        "\n",
        "    # Configurar etiquetas en el eje x\n",
        "    plt.xticks(rotation=360)\n",
        "\n",
        "    # Agregar leyenda al gráfico\n",
        "    plt.legend()\n",
        "     #Color de texto de los valores(Datos)\n",
        "    ejes.tick_params(axis='x', labelcolor='#065758')\n",
        "    ejes.tick_params(axis='y', labelcolor='#065758')\n",
        "\n",
        "    # Mostrar el gráfico\n",
        "    # Muestra en pantalla el gráfico configurado\n",
        "    plt.xlabel('Fecha del intervalo', color='#065758', fontweight='bold')\n",
        "    plt.ylabel('Intervalo de precios', color='#065758', fontweight='bold')\n",
        "    plt.legend(facecolor='#065758', labelcolor='#81d2e4')\n",
        "    plt.grid(True)  # Mostrar cuadrícula\n",
        "    plt.show()\n",
        "\n",
        "# Llamar a la función para mostrar el gráfico\n",
        "visualizacion()\n",
        "\n",
        "# Imprime las variables globales\n",
        "print(\"Precio Actual:\", precio_actual)\n",
        "print(\"Tendencia:\", tendencia)\n",
        "print(\"Media Bitcoin:\", media_bitcoin)\n",
        "print(\"Algoritmo de Decisión:\", algoritmo_decision)\n"
      ]
    },
    {
      "cell_type": "markdown",
      "metadata": {
        "id": "FUHTQkrM01YU"
      },
      "source": [
        "#**6.Automatizacion**"
      ]
    },
    {
      "cell_type": "markdown",
      "metadata": {
        "id": "7DtnXjHk1Clm"
      },
      "source": [
        "El método clear_output y la biblioteca time son útiles para limpiar la salida y controlar la frecuencia de actualización de los gráficos"
      ]
    },
    {
      "cell_type": "code",
      "execution_count": 314,
      "metadata": {
        "id": "bcZZO6T7z0SD"
      },
      "outputs": [],
      "source": [
        "from IPython.display import clear_output\n",
        "import time"
      ]
    },
    {
      "cell_type": "code",
      "execution_count": null,
      "metadata": {
        "id": "23nCtwm50yce",
        "colab": {
          "base_uri": "https://localhost:8080/",
          "height": 1000
        },
        "outputId": "7e4ac022-52ab-4cb8-a010-6c7864246adf"
      },
      "outputs": [
        {
          "output_type": "stream",
          "name": "stdout",
          "text": [
            "\r[*********************100%%**********************]  1 of 1 completed\n",
            "Precio Actual: 3446928.0\n",
            "Tendencia: baja\n",
            "Media Bitcoin: 34365.43236481742\n",
            "Algoritmo de Decisión: Esperar\n"
          ]
        },
        {
          "output_type": "display_data",
          "data": {
            "text/plain": [
              "<Figure size 1600x500 with 1 Axes>"
            ],
            "image/png": "[encoded data removed]"
          },
          "metadata": {}
        }
      ],
      "source": [
        "while(True):\n",
        "  clear_output(wait=True)\n",
        "  importar_base_bitcoin()\n",
        "  extraer_tendencias()\n",
        "  limpieza_datos()\n",
        "  tomar_decisiones()\n",
        "  # Imprime las variables globales\n",
        "  print(\"Precio Actual:\", precio_actual)\n",
        "  print(\"Tendencia:\", tendencia)\n",
        "  print(\"Media Bitcoin:\", media_bitcoin)\n",
        "  print(\"Algoritmo de Decisión:\", algoritmo_decision)\n",
        "  visualizacion()\n",
        "  time.sleep(300)\n"
      ]
    }
  ],
  "metadata": {
    "colab": {
      "provenance": [],
      "authorship_tag": "ABX9TyMlBWezhRBOGevp7gwnE0ag",
      "include_colab_link": true
    },
    "kernelspec": {
      "display_name": "Python 3",
      "name": "python3"
    },
    "language_info": {
      "name": "python"
    }
  },
  "nbformat": 4,
  "nbformat_minor": 0
}